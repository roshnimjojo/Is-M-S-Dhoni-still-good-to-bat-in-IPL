{
 "cells": [
  {
   "cell_type": "markdown",
   "id": "0e222ce3",
   "metadata": {},
   "source": [
    "# Is MS Dhoni still Good Enough to Bat"
   ]
  },
  {
   "cell_type": "code",
   "execution_count": 1,
   "id": "bcf9cc04",
   "metadata": {},
   "outputs": [],
   "source": [
    "import warnings\n",
    "warnings.filterwarnings('ignore')\n",
    "\n",
    "import pandas as pd\n",
    "import numpy as np\n",
    "\n",
    "import matplotlib.pyplot as plt\n",
    "\n",
    "# to display all rows and coloumns\n",
    "\n",
    "pd.set_option('display.max_rows', None)\n",
    "pd.set_option('display.max_columns', None)\n",
    "pd.set_option('display.expand_frame_repr', False)\n",
    "pd.set_option('max_colwidth', -1)"
   ]
  },
  {
   "cell_type": "code",
   "execution_count": 2,
   "id": "3dd8a11b",
   "metadata": {},
   "outputs": [],
   "source": [
    "df = pd.read_csv('ipl_ball_by_ball_data.csv')"
   ]
  },
  {
   "cell_type": "markdown",
   "id": "1e53d48e",
   "metadata": {},
   "source": [
    "IPL Ball by Ball Data"
   ]
  },
  {
   "cell_type": "code",
   "execution_count": 3,
   "id": "199d0b83",
   "metadata": {},
   "outputs": [
    {
     "data": {
      "text/html": [
       "<div>\n",
       "<style scoped>\n",
       "    .dataframe tbody tr th:only-of-type {\n",
       "        vertical-align: middle;\n",
       "    }\n",
       "\n",
       "    .dataframe tbody tr th {\n",
       "        vertical-align: top;\n",
       "    }\n",
       "\n",
       "    .dataframe thead th {\n",
       "        text-align: right;\n",
       "    }\n",
       "</style>\n",
       "<table border=\"1\" class=\"dataframe\">\n",
       "  <thead>\n",
       "    <tr style=\"text-align: right;\">\n",
       "      <th></th>\n",
       "      <th>match_id</th>\n",
       "      <th>season</th>\n",
       "      <th>start_date</th>\n",
       "      <th>venue</th>\n",
       "      <th>innings</th>\n",
       "      <th>ball</th>\n",
       "      <th>batting_team</th>\n",
       "      <th>bowling_team</th>\n",
       "      <th>striker</th>\n",
       "      <th>non_striker</th>\n",
       "      <th>bowler</th>\n",
       "      <th>runs_off_bat</th>\n",
       "      <th>extras</th>\n",
       "      <th>wides</th>\n",
       "      <th>noballs</th>\n",
       "      <th>byes</th>\n",
       "      <th>legbyes</th>\n",
       "      <th>penalty</th>\n",
       "      <th>wicket_type</th>\n",
       "      <th>player_dismissed</th>\n",
       "      <th>other_wicket_type</th>\n",
       "      <th>other_player_dismissed</th>\n",
       "    </tr>\n",
       "  </thead>\n",
       "  <tbody>\n",
       "    <tr>\n",
       "      <th>0</th>\n",
       "      <td>335982</td>\n",
       "      <td>2008</td>\n",
       "      <td>2008-04-18</td>\n",
       "      <td>M Chinnaswamy Stadium</td>\n",
       "      <td>1</td>\n",
       "      <td>0.1</td>\n",
       "      <td>Kolkata Knight Riders</td>\n",
       "      <td>Royal Challengers Bangalore</td>\n",
       "      <td>SC Ganguly</td>\n",
       "      <td>BB McCullum</td>\n",
       "      <td>P Kumar</td>\n",
       "      <td>0</td>\n",
       "      <td>1</td>\n",
       "      <td>NaN</td>\n",
       "      <td>NaN</td>\n",
       "      <td>NaN</td>\n",
       "      <td>1.0</td>\n",
       "      <td>NaN</td>\n",
       "      <td>NaN</td>\n",
       "      <td>NaN</td>\n",
       "      <td>NaN</td>\n",
       "      <td>NaN</td>\n",
       "    </tr>\n",
       "    <tr>\n",
       "      <th>1</th>\n",
       "      <td>335982</td>\n",
       "      <td>2008</td>\n",
       "      <td>2008-04-18</td>\n",
       "      <td>M Chinnaswamy Stadium</td>\n",
       "      <td>2</td>\n",
       "      <td>3.1</td>\n",
       "      <td>Royal Challengers Bangalore</td>\n",
       "      <td>Kolkata Knight Riders</td>\n",
       "      <td>W Jaffer</td>\n",
       "      <td>JH Kallis</td>\n",
       "      <td>I Sharma</td>\n",
       "      <td>2</td>\n",
       "      <td>0</td>\n",
       "      <td>NaN</td>\n",
       "      <td>NaN</td>\n",
       "      <td>NaN</td>\n",
       "      <td>NaN</td>\n",
       "      <td>NaN</td>\n",
       "      <td>NaN</td>\n",
       "      <td>NaN</td>\n",
       "      <td>NaN</td>\n",
       "      <td>NaN</td>\n",
       "    </tr>\n",
       "  </tbody>\n",
       "</table>\n",
       "</div>"
      ],
      "text/plain": [
       "   match_id  season  start_date                  venue  innings  ball                 batting_team                 bowling_team     striker  non_striker    bowler  runs_off_bat  extras  wides  noballs  byes  legbyes  penalty wicket_type player_dismissed  other_wicket_type  other_player_dismissed\n",
       "0  335982    2008    2008-04-18  M Chinnaswamy Stadium  1        0.1   Kolkata Knight Riders        Royal Challengers Bangalore  SC Ganguly  BB McCullum  P Kumar   0             1      NaN    NaN      NaN    1.0     NaN       NaN         NaN             NaN                NaN                    \n",
       "1  335982    2008    2008-04-18  M Chinnaswamy Stadium  2        3.1   Royal Challengers Bangalore  Kolkata Knight Riders        W Jaffer    JH Kallis    I Sharma  2             0      NaN    NaN      NaN   NaN      NaN       NaN         NaN             NaN                NaN                    "
      ]
     },
     "execution_count": 3,
     "metadata": {},
     "output_type": "execute_result"
    }
   ],
   "source": [
    "df.head(2)"
   ]
  },
  {
   "cell_type": "code",
   "execution_count": 4,
   "id": "93ef4555",
   "metadata": {},
   "outputs": [
    {
     "data": {
      "text/plain": [
       "array(['Kolkata Knight Riders', 'Royal Challengers Bangalore',\n",
       "       'Rajasthan Royals', 'Kings XI Punjab', 'Delhi Daredevils',\n",
       "       'Chennai Super Kings', 'Deccan Chargers', 'Mumbai Indians',\n",
       "       'Kochi Tuskers Kerala', 'Pune Warriors', 'Sunrisers Hyderabad',\n",
       "       'Rising Pune Supergiants', 'Gujarat Lions',\n",
       "       'Rising Pune Supergiant', 'Delhi Capitals', 'Punjab Kings'],\n",
       "      dtype=object)"
      ]
     },
     "execution_count": 4,
     "metadata": {},
     "output_type": "execute_result"
    }
   ],
   "source": [
    "df.batting_team.unique()"
   ]
  },
  {
   "cell_type": "code",
   "execution_count": 5,
   "id": "cbfe490b",
   "metadata": {},
   "outputs": [
    {
     "data": {
      "text/plain": [
       "array(['MEK Hussey', 'JDP Oram', 'SK Raina', 'S Badrinath', 'ML Hayden',\n",
       "       'PA Patel', 'MS Dhoni', 'JA Morkel', 'S Vidyut', 'SP Fleming',\n",
       "       'MS Gony', 'Joginder Sharma', 'M Muralitharan', 'M Ntini',\n",
       "       'S Anirudha', 'CK Kapugedera', 'L Balaji', 'A Mukund',\n",
       "       'T Thushara', 'A Flintoff', 'SB Jakati', 'M Vijay', 'GJ Bailey',\n",
       "       'R Ashwin', 'S Tyagi', 'JM Kemp', 'KB Arun Karthik',\n",
       "       'DE Bollinger', 'SB Styris', 'S Randiv', 'WP Saha', 'DJ Bravo',\n",
       "       'F du Plessis', 'RA Jadeja', 'KMDN Kulasekara', 'AS Rajpoot',\n",
       "       'B Laughlin', 'CH Morris', 'MM Sharma', 'DR Smith', 'BB McCullum',\n",
       "       'M Manhas', 'DJ Hussey', 'A Nehra', 'RG More', 'P Negi',\n",
       "       'KM Jadhav', 'AT Rayudu', 'SR Watson', 'MA Wood', 'Imran Tahir',\n",
       "       'DL Chahar', 'Harbhajan Singh', 'SW Billings', 'DR Shorey',\n",
       "       'SN Thakur', 'MJ Santner', 'SM Curran', 'RD Gaikwad',\n",
       "       'N Jagadeesan', 'MM Ali'], dtype=object)"
      ]
     },
     "execution_count": 5,
     "metadata": {},
     "output_type": "execute_result"
    }
   ],
   "source": [
    "df[df.batting_team == 'Chennai Super Kings']['striker'].unique()"
   ]
  },
  {
   "cell_type": "code",
   "execution_count": 6,
   "id": "a147b90b",
   "metadata": {},
   "outputs": [
    {
     "data": {
      "text/plain": [
       "match_id                  int64  \n",
       "season                    int64  \n",
       "start_date                object \n",
       "venue                     object \n",
       "innings                   int64  \n",
       "ball                      float64\n",
       "batting_team              object \n",
       "bowling_team              object \n",
       "striker                   object \n",
       "non_striker               object \n",
       "bowler                    object \n",
       "runs_off_bat              int64  \n",
       "extras                    int64  \n",
       "wides                     float64\n",
       "noballs                   float64\n",
       "byes                      float64\n",
       "legbyes                   float64\n",
       "penalty                   float64\n",
       "wicket_type               object \n",
       "player_dismissed          object \n",
       "other_wicket_type         float64\n",
       "other_player_dismissed    float64\n",
       "dtype: object"
      ]
     },
     "execution_count": 6,
     "metadata": {},
     "output_type": "execute_result"
    }
   ],
   "source": [
    "df.dtypes"
   ]
  },
  {
   "cell_type": "code",
   "execution_count": 7,
   "id": "45633726",
   "metadata": {},
   "outputs": [],
   "source": [
    "# Data Frame on Dhoni's batting \n",
    "msd_df = df[df.striker == 'MS Dhoni']"
   ]
  },
  {
   "cell_type": "code",
   "execution_count": 8,
   "id": "d8eb999c",
   "metadata": {},
   "outputs": [
    {
     "data": {
      "text/html": [
       "<div>\n",
       "<style scoped>\n",
       "    .dataframe tbody tr th:only-of-type {\n",
       "        vertical-align: middle;\n",
       "    }\n",
       "\n",
       "    .dataframe tbody tr th {\n",
       "        vertical-align: top;\n",
       "    }\n",
       "\n",
       "    .dataframe thead th {\n",
       "        text-align: right;\n",
       "    }\n",
       "</style>\n",
       "<table border=\"1\" class=\"dataframe\">\n",
       "  <thead>\n",
       "    <tr style=\"text-align: right;\">\n",
       "      <th></th>\n",
       "      <th>match_id</th>\n",
       "      <th>season</th>\n",
       "      <th>start_date</th>\n",
       "      <th>venue</th>\n",
       "      <th>innings</th>\n",
       "      <th>ball</th>\n",
       "      <th>batting_team</th>\n",
       "      <th>bowling_team</th>\n",
       "      <th>striker</th>\n",
       "      <th>non_striker</th>\n",
       "      <th>bowler</th>\n",
       "      <th>runs_off_bat</th>\n",
       "      <th>extras</th>\n",
       "      <th>wides</th>\n",
       "      <th>noballs</th>\n",
       "      <th>byes</th>\n",
       "      <th>legbyes</th>\n",
       "      <th>penalty</th>\n",
       "      <th>wicket_type</th>\n",
       "      <th>player_dismissed</th>\n",
       "      <th>other_wicket_type</th>\n",
       "      <th>other_player_dismissed</th>\n",
       "    </tr>\n",
       "  </thead>\n",
       "  <tbody>\n",
       "    <tr>\n",
       "      <th>198291</th>\n",
       "      <td>1254076</td>\n",
       "      <td>2021</td>\n",
       "      <td>2021-04-25</td>\n",
       "      <td>Wankhede Stadium, Mumbai</td>\n",
       "      <td>1</td>\n",
       "      <td>18.4</td>\n",
       "      <td>Chennai Super Kings</td>\n",
       "      <td>Royal Challengers Bangalore</td>\n",
       "      <td>MS Dhoni</td>\n",
       "      <td>RA Jadeja</td>\n",
       "      <td>Mohammed Siraj</td>\n",
       "      <td>1</td>\n",
       "      <td>0</td>\n",
       "      <td>NaN</td>\n",
       "      <td>NaN</td>\n",
       "      <td>NaN</td>\n",
       "      <td>NaN</td>\n",
       "      <td>NaN</td>\n",
       "      <td>NaN</td>\n",
       "      <td>NaN</td>\n",
       "      <td>NaN</td>\n",
       "      <td>NaN</td>\n",
       "    </tr>\n",
       "    <tr>\n",
       "      <th>198297</th>\n",
       "      <td>1254076</td>\n",
       "      <td>2021</td>\n",
       "      <td>2021-04-25</td>\n",
       "      <td>Wankhede Stadium, Mumbai</td>\n",
       "      <td>1</td>\n",
       "      <td>17.5</td>\n",
       "      <td>Chennai Super Kings</td>\n",
       "      <td>Royal Challengers Bangalore</td>\n",
       "      <td>MS Dhoni</td>\n",
       "      <td>RA Jadeja</td>\n",
       "      <td>HV Patel</td>\n",
       "      <td>1</td>\n",
       "      <td>0</td>\n",
       "      <td>NaN</td>\n",
       "      <td>NaN</td>\n",
       "      <td>NaN</td>\n",
       "      <td>NaN</td>\n",
       "      <td>NaN</td>\n",
       "      <td>NaN</td>\n",
       "      <td>NaN</td>\n",
       "      <td>NaN</td>\n",
       "      <td>NaN</td>\n",
       "    </tr>\n",
       "    <tr>\n",
       "      <th>198298</th>\n",
       "      <td>1254076</td>\n",
       "      <td>2021</td>\n",
       "      <td>2021-04-25</td>\n",
       "      <td>Wankhede Stadium, Mumbai</td>\n",
       "      <td>1</td>\n",
       "      <td>17.4</td>\n",
       "      <td>Chennai Super Kings</td>\n",
       "      <td>Royal Challengers Bangalore</td>\n",
       "      <td>MS Dhoni</td>\n",
       "      <td>RA Jadeja</td>\n",
       "      <td>HV Patel</td>\n",
       "      <td>0</td>\n",
       "      <td>0</td>\n",
       "      <td>NaN</td>\n",
       "      <td>NaN</td>\n",
       "      <td>NaN</td>\n",
       "      <td>NaN</td>\n",
       "      <td>NaN</td>\n",
       "      <td>NaN</td>\n",
       "      <td>NaN</td>\n",
       "      <td>NaN</td>\n",
       "      <td>NaN</td>\n",
       "    </tr>\n",
       "  </tbody>\n",
       "</table>\n",
       "</div>"
      ],
      "text/plain": [
       "        match_id  season  start_date                     venue  innings  ball         batting_team                 bowling_team   striker non_striker          bowler  runs_off_bat  extras  wides  noballs  byes  legbyes  penalty wicket_type player_dismissed  other_wicket_type  other_player_dismissed\n",
       "198291  1254076   2021    2021-04-25  Wankhede Stadium, Mumbai  1        18.4  Chennai Super Kings  Royal Challengers Bangalore  MS Dhoni  RA Jadeja   Mohammed Siraj  1             0      NaN    NaN      NaN   NaN      NaN       NaN         NaN             NaN                NaN                    \n",
       "198297  1254076   2021    2021-04-25  Wankhede Stadium, Mumbai  1        17.5  Chennai Super Kings  Royal Challengers Bangalore  MS Dhoni  RA Jadeja   HV Patel        1             0      NaN    NaN      NaN   NaN      NaN       NaN         NaN             NaN                NaN                    \n",
       "198298  1254076   2021    2021-04-25  Wankhede Stadium, Mumbai  1        17.4  Chennai Super Kings  Royal Challengers Bangalore  MS Dhoni  RA Jadeja   HV Patel        0             0      NaN    NaN      NaN   NaN      NaN       NaN         NaN             NaN                NaN                    "
      ]
     },
     "execution_count": 8,
     "metadata": {},
     "output_type": "execute_result"
    }
   ],
   "source": [
    "msd_df.tail(3)"
   ]
  },
  {
   "cell_type": "code",
   "execution_count": 9,
   "id": "067f0246",
   "metadata": {},
   "outputs": [
    {
     "data": {
      "text/plain": [
       "4669"
      ]
     },
     "execution_count": 9,
     "metadata": {},
     "output_type": "execute_result"
    }
   ],
   "source": [
    "# Total Runs scored by Dhoni in IPL\n",
    "sum(msd_df.runs_off_bat)"
   ]
  },
  {
   "cell_type": "code",
   "execution_count": 10,
   "id": "8852bf1e",
   "metadata": {},
   "outputs": [
    {
     "data": {
      "text/plain": [
       "3525"
      ]
     },
     "execution_count": 10,
     "metadata": {},
     "output_type": "execute_result"
    }
   ],
   "source": [
    "# Total Balls faced by Dhoni in IPL\n",
    "len(msd_df)"
   ]
  },
  {
   "cell_type": "code",
   "execution_count": 11,
   "id": "03ce742c",
   "metadata": {},
   "outputs": [
    {
     "data": {
      "text/plain": [
       "132.45390070921985"
      ]
     },
     "execution_count": 11,
     "metadata": {},
     "output_type": "execute_result"
    }
   ],
   "source": [
    "# Strike Rate of Dhoni in IPL\n",
    "100*sum(msd_df.runs_off_bat)/len(msd_df)"
   ]
  },
  {
   "cell_type": "markdown",
   "id": "f206bc9e",
   "metadata": {},
   "source": [
    "### IPL Stats of Dhoni\n",
    "\n",
    "\n",
    "Total Runs Scored - 4669\n",
    "\n",
    "Strike Rate       - 132.454"
   ]
  },
  {
   "cell_type": "markdown",
   "id": "a582a1a1",
   "metadata": {},
   "source": [
    "### Team Contribution (Team: Chennai Super Kings)"
   ]
  },
  {
   "cell_type": "code",
   "execution_count": 12,
   "id": "ea15be12",
   "metadata": {},
   "outputs": [],
   "source": [
    "csk_df = df[df.batting_team == 'Chennai Super Kings']"
   ]
  },
  {
   "cell_type": "code",
   "execution_count": 13,
   "id": "7dc285b2",
   "metadata": {},
   "outputs": [
    {
     "data": {
      "text/html": [
       "<div>\n",
       "<style scoped>\n",
       "    .dataframe tbody tr th:only-of-type {\n",
       "        vertical-align: middle;\n",
       "    }\n",
       "\n",
       "    .dataframe tbody tr th {\n",
       "        vertical-align: top;\n",
       "    }\n",
       "\n",
       "    .dataframe thead th {\n",
       "        text-align: right;\n",
       "    }\n",
       "</style>\n",
       "<table border=\"1\" class=\"dataframe\">\n",
       "  <thead>\n",
       "    <tr style=\"text-align: right;\">\n",
       "      <th></th>\n",
       "      <th>match_id</th>\n",
       "      <th>season</th>\n",
       "      <th>start_date</th>\n",
       "      <th>venue</th>\n",
       "      <th>innings</th>\n",
       "      <th>ball</th>\n",
       "      <th>batting_team</th>\n",
       "      <th>bowling_team</th>\n",
       "      <th>striker</th>\n",
       "      <th>non_striker</th>\n",
       "      <th>bowler</th>\n",
       "      <th>runs_off_bat</th>\n",
       "      <th>extras</th>\n",
       "      <th>wides</th>\n",
       "      <th>noballs</th>\n",
       "      <th>byes</th>\n",
       "      <th>legbyes</th>\n",
       "      <th>penalty</th>\n",
       "      <th>wicket_type</th>\n",
       "      <th>player_dismissed</th>\n",
       "      <th>other_wicket_type</th>\n",
       "      <th>other_player_dismissed</th>\n",
       "    </tr>\n",
       "  </thead>\n",
       "  <tbody>\n",
       "    <tr>\n",
       "      <th>459</th>\n",
       "      <td>335983</td>\n",
       "      <td>2008</td>\n",
       "      <td>2008-04-19</td>\n",
       "      <td>Punjab Cricket Association Stadium, Mohali</td>\n",
       "      <td>1</td>\n",
       "      <td>13.2</td>\n",
       "      <td>Chennai Super Kings</td>\n",
       "      <td>Kings XI Punjab</td>\n",
       "      <td>MEK Hussey</td>\n",
       "      <td>JDP Oram</td>\n",
       "      <td>JR Hopes</td>\n",
       "      <td>0</td>\n",
       "      <td>0</td>\n",
       "      <td>NaN</td>\n",
       "      <td>NaN</td>\n",
       "      <td>NaN</td>\n",
       "      <td>NaN</td>\n",
       "      <td>NaN</td>\n",
       "      <td>NaN</td>\n",
       "      <td>NaN</td>\n",
       "      <td>NaN</td>\n",
       "      <td>NaN</td>\n",
       "    </tr>\n",
       "    <tr>\n",
       "      <th>460</th>\n",
       "      <td>335983</td>\n",
       "      <td>2008</td>\n",
       "      <td>2008-04-19</td>\n",
       "      <td>Punjab Cricket Association Stadium, Mohali</td>\n",
       "      <td>1</td>\n",
       "      <td>13.1</td>\n",
       "      <td>Chennai Super Kings</td>\n",
       "      <td>Kings XI Punjab</td>\n",
       "      <td>JDP Oram</td>\n",
       "      <td>MEK Hussey</td>\n",
       "      <td>JR Hopes</td>\n",
       "      <td>1</td>\n",
       "      <td>0</td>\n",
       "      <td>NaN</td>\n",
       "      <td>NaN</td>\n",
       "      <td>NaN</td>\n",
       "      <td>NaN</td>\n",
       "      <td>NaN</td>\n",
       "      <td>NaN</td>\n",
       "      <td>NaN</td>\n",
       "      <td>NaN</td>\n",
       "      <td>NaN</td>\n",
       "    </tr>\n",
       "    <tr>\n",
       "      <th>461</th>\n",
       "      <td>335983</td>\n",
       "      <td>2008</td>\n",
       "      <td>2008-04-19</td>\n",
       "      <td>Punjab Cricket Association Stadium, Mohali</td>\n",
       "      <td>1</td>\n",
       "      <td>12.8</td>\n",
       "      <td>Chennai Super Kings</td>\n",
       "      <td>Kings XI Punjab</td>\n",
       "      <td>JDP Oram</td>\n",
       "      <td>MEK Hussey</td>\n",
       "      <td>WA Mota</td>\n",
       "      <td>1</td>\n",
       "      <td>0</td>\n",
       "      <td>NaN</td>\n",
       "      <td>NaN</td>\n",
       "      <td>NaN</td>\n",
       "      <td>NaN</td>\n",
       "      <td>NaN</td>\n",
       "      <td>NaN</td>\n",
       "      <td>NaN</td>\n",
       "      <td>NaN</td>\n",
       "      <td>NaN</td>\n",
       "    </tr>\n",
       "  </tbody>\n",
       "</table>\n",
       "</div>"
      ],
      "text/plain": [
       "     match_id  season  start_date                                       venue  innings  ball         batting_team     bowling_team     striker non_striker    bowler  runs_off_bat  extras  wides  noballs  byes  legbyes  penalty wicket_type player_dismissed  other_wicket_type  other_player_dismissed\n",
       "459  335983    2008    2008-04-19  Punjab Cricket Association Stadium, Mohali  1        13.2  Chennai Super Kings  Kings XI Punjab  MEK Hussey  JDP Oram    JR Hopes  0             0      NaN    NaN      NaN   NaN      NaN       NaN         NaN             NaN                NaN                    \n",
       "460  335983    2008    2008-04-19  Punjab Cricket Association Stadium, Mohali  1        13.1  Chennai Super Kings  Kings XI Punjab  JDP Oram    MEK Hussey  JR Hopes  1             0      NaN    NaN      NaN   NaN      NaN       NaN         NaN             NaN                NaN                    \n",
       "461  335983    2008    2008-04-19  Punjab Cricket Association Stadium, Mohali  1        12.8  Chennai Super Kings  Kings XI Punjab  JDP Oram    MEK Hussey  WA Mota   1             0      NaN    NaN      NaN   NaN      NaN       NaN         NaN             NaN                NaN                    "
      ]
     },
     "execution_count": 13,
     "metadata": {},
     "output_type": "execute_result"
    }
   ],
   "source": [
    "csk_df.head(3)"
   ]
  },
  {
   "cell_type": "code",
   "execution_count": 14,
   "id": "57c5dc7c",
   "metadata": {},
   "outputs": [
    {
     "data": {
      "text/plain": [
       "28184"
      ]
     },
     "execution_count": 14,
     "metadata": {},
     "output_type": "execute_result"
    }
   ],
   "source": [
    "# Total Runs by Chennai Super Kings Batsman\n",
    "sum(csk_df.runs_off_bat)"
   ]
  },
  {
   "cell_type": "code",
   "execution_count": 15,
   "id": "c7624156",
   "metadata": {},
   "outputs": [
    {
     "data": {
      "text/plain": [
       "1473"
      ]
     },
     "execution_count": 15,
     "metadata": {},
     "output_type": "execute_result"
    }
   ],
   "source": [
    "# Total Extras scored by Chennai Super Kings\n",
    "sum(csk_df.extras)"
   ]
  },
  {
   "cell_type": "code",
   "execution_count": 16,
   "id": "2bcbdb19",
   "metadata": {},
   "outputs": [
    {
     "data": {
      "text/plain": [
       "29657"
      ]
     },
     "execution_count": 16,
     "metadata": {},
     "output_type": "execute_result"
    }
   ],
   "source": [
    "# Total Runs of Chennai Super Kings\n",
    "sum(csk_df.runs_off_bat) + sum(csk_df.extras)"
   ]
  },
  {
   "cell_type": "code",
   "execution_count": 17,
   "id": "3ce695f5",
   "metadata": {},
   "outputs": [
    {
     "data": {
      "text/plain": [
       "4095"
      ]
     },
     "execution_count": 17,
     "metadata": {},
     "output_type": "execute_result"
    }
   ],
   "source": [
    "# Total Runs Scored by Dhoni for CSK\n",
    "sum(msd_df.runs_off_bat[msd_df.batting_team == 'Chennai Super Kings'])"
   ]
  },
  {
   "cell_type": "code",
   "execution_count": 18,
   "id": "55c978e5",
   "metadata": {},
   "outputs": [
    {
     "data": {
      "text/plain": [
       "13.807869980105878"
      ]
     },
     "execution_count": 18,
     "metadata": {},
     "output_type": "execute_result"
    }
   ],
   "source": [
    "# Percentage of runs Contributed to team by Dhoni (total team runs including extras)\n",
    "100*sum(msd_df.runs_off_bat[msd_df.batting_team == 'Chennai Super Kings'])/(sum(csk_df.runs_off_bat)+sum(csk_df.extras))"
   ]
  },
  {
   "cell_type": "code",
   "execution_count": 19,
   "id": "dd59c46d",
   "metadata": {},
   "outputs": [
    {
     "data": {
      "text/plain": [
       "striker\n",
       "A Flintoff         62  \n",
       "A Mukund           0   \n",
       "A Nehra            1   \n",
       "AS Rajpoot         2   \n",
       "AT Rayudu          1379\n",
       "B Laughlin         4   \n",
       "BB McCullum        841 \n",
       "CH Morris          14  \n",
       "CK Kapugedera      16  \n",
       "DE Bollinger       21  \n",
       "DJ Bravo           954 \n",
       "DJ Hussey          116 \n",
       "DL Chahar          64  \n",
       "DR Shorey          13  \n",
       "DR Smith           965 \n",
       "F du Plessis       2408\n",
       "GJ Bailey          63  \n",
       "Harbhajan Singh    30  \n",
       "Imran Tahir        15  \n",
       "JA Morkel          828 \n",
       "JDP Oram           106 \n",
       "JM Kemp            26  \n",
       "Joginder Sharma    36  \n",
       "KB Arun Karthik    3   \n",
       "KM Jadhav          248 \n",
       "KMDN Kulasekara    5   \n",
       "L Balaji           22  \n",
       "M Manhas           35  \n",
       "M Muralitharan     9   \n",
       "M Ntini            11  \n",
       "M Vijay            1708\n",
       "MA Wood            1   \n",
       "MEK Hussey         1768\n",
       "MJ Santner         32  \n",
       "ML Hayden          1107\n",
       "MM Ali             206 \n",
       "MM Sharma          29  \n",
       "MS Dhoni           4095\n",
       "MS Gony            50  \n",
       "N Jagadeesan       33  \n",
       "P Negi             116 \n",
       "PA Patel           516 \n",
       "R Ashwin           190 \n",
       "RA Jadeja          1228\n",
       "RD Gaikwad         400 \n",
       "RG More            2   \n",
       "S Anirudha         133 \n",
       "S Badrinath        1441\n",
       "S Randiv           2   \n",
       "S Tyagi            3   \n",
       "S Vidyut           145 \n",
       "SB Jakati          27  \n",
       "SB Styris          5   \n",
       "SK Raina           4658\n",
       "SM Curran          238 \n",
       "SN Thakur          42  \n",
       "SP Fleming         196 \n",
       "SR Watson          1252\n",
       "SW Billings        108 \n",
       "T Thushara         12  \n",
       "WP Saha            144 \n",
       "Name: runs_off_bat, dtype: int64"
      ]
     },
     "execution_count": 19,
     "metadata": {},
     "output_type": "execute_result"
    }
   ],
   "source": [
    "# Runs Scored by each Chennai Super Kings Batsman\n",
    "csk_df.groupby('striker')['runs_off_bat'].sum()"
   ]
  },
  {
   "cell_type": "code",
   "execution_count": 20,
   "id": "1d7aeb4d",
   "metadata": {},
   "outputs": [
    {
     "data": {
      "image/png": "[encoded data removed]",
      "text/plain": [
       "<Figure size 432x288 with 1 Axes>"
      ]
     },
     "metadata": {
      "needs_background": "light"
     },
     "output_type": "display_data"
    }
   ],
   "source": [
    "# Graphical Representation of top 10 Batsman who scored runs for CSK\n",
    "\n",
    "csk_df.groupby(['striker'])['runs_off_bat'].sum().sort_values(ascending=False).head(10).plot(kind = 'barh',color='maroon')\n",
    "plt.title('Top 10 CSK run scorers')\n",
    "plt.xlabel('Runs Scored')\n",
    "plt.ylabel('Batsman')\n",
    "plt.show()"
   ]
  },
  {
   "cell_type": "markdown",
   "id": "cc1193c2",
   "metadata": {},
   "source": [
    "Dhoni stands second in the top 10 CSK run scorers"
   ]
  },
  {
   "cell_type": "markdown",
   "id": "2d893b21",
   "metadata": {},
   "source": [
    "## Strike Rate"
   ]
  },
  {
   "cell_type": "code",
   "execution_count": 21,
   "id": "3fb602d4",
   "metadata": {},
   "outputs": [
    {
     "data": {
      "text/plain": [
       "132.45390070921985"
      ]
     },
     "execution_count": 21,
     "metadata": {},
     "output_type": "execute_result"
    }
   ],
   "source": [
    "# Strike Rate of Dhoni in IPL\n",
    "100*sum(msd_df.runs_off_bat)/len(msd_df)"
   ]
  },
  {
   "cell_type": "code",
   "execution_count": 22,
   "id": "55a07bf8",
   "metadata": {},
   "outputs": [],
   "source": [
    "# Analysing the Strike Rate of MS Dhoni across seasons"
   ]
  },
  {
   "cell_type": "code",
   "execution_count": 23,
   "id": "622612a8",
   "metadata": {},
   "outputs": [],
   "source": [
    "msd_1 = pd.DataFrame(msd_df.groupby('season')['runs_off_bat'].sum()).reset_index()"
   ]
  },
  {
   "cell_type": "code",
   "execution_count": 24,
   "id": "79e8f595",
   "metadata": {},
   "outputs": [],
   "source": [
    "msd_2 = pd.DataFrame(msd_df.groupby('season')['ball'].count()).reset_index()"
   ]
  },
  {
   "cell_type": "code",
   "execution_count": 25,
   "id": "677d688c",
   "metadata": {},
   "outputs": [],
   "source": [
    "msd_3 = msd_1.merge(msd_2, on ='season', how='left')"
   ]
  },
  {
   "cell_type": "code",
   "execution_count": 26,
   "id": "15bf2b74",
   "metadata": {},
   "outputs": [
    {
     "data": {
      "text/html": [
       "<div>\n",
       "<style scoped>\n",
       "    .dataframe tbody tr th:only-of-type {\n",
       "        vertical-align: middle;\n",
       "    }\n",
       "\n",
       "    .dataframe tbody tr th {\n",
       "        vertical-align: top;\n",
       "    }\n",
       "\n",
       "    .dataframe thead th {\n",
       "        text-align: right;\n",
       "    }\n",
       "</style>\n",
       "<table border=\"1\" class=\"dataframe\">\n",
       "  <thead>\n",
       "    <tr style=\"text-align: right;\">\n",
       "      <th></th>\n",
       "      <th>season</th>\n",
       "      <th>runs_off_bat</th>\n",
       "      <th>ball</th>\n",
       "    </tr>\n",
       "  </thead>\n",
       "  <tbody>\n",
       "    <tr>\n",
       "      <th>0</th>\n",
       "      <td>2008</td>\n",
       "      <td>414</td>\n",
       "      <td>319</td>\n",
       "    </tr>\n",
       "    <tr>\n",
       "      <th>1</th>\n",
       "      <td>2009</td>\n",
       "      <td>332</td>\n",
       "      <td>270</td>\n",
       "    </tr>\n",
       "    <tr>\n",
       "      <th>2</th>\n",
       "      <td>2010</td>\n",
       "      <td>287</td>\n",
       "      <td>215</td>\n",
       "    </tr>\n",
       "    <tr>\n",
       "      <th>3</th>\n",
       "      <td>2011</td>\n",
       "      <td>392</td>\n",
       "      <td>247</td>\n",
       "    </tr>\n",
       "    <tr>\n",
       "      <th>4</th>\n",
       "      <td>2012</td>\n",
       "      <td>358</td>\n",
       "      <td>283</td>\n",
       "    </tr>\n",
       "    <tr>\n",
       "      <th>5</th>\n",
       "      <td>2013</td>\n",
       "      <td>461</td>\n",
       "      <td>298</td>\n",
       "    </tr>\n",
       "    <tr>\n",
       "      <th>6</th>\n",
       "      <td>2014</td>\n",
       "      <td>371</td>\n",
       "      <td>258</td>\n",
       "    </tr>\n",
       "    <tr>\n",
       "      <th>7</th>\n",
       "      <td>2015</td>\n",
       "      <td>372</td>\n",
       "      <td>309</td>\n",
       "    </tr>\n",
       "    <tr>\n",
       "      <th>8</th>\n",
       "      <td>2016</td>\n",
       "      <td>284</td>\n",
       "      <td>220</td>\n",
       "    </tr>\n",
       "    <tr>\n",
       "      <th>9</th>\n",
       "      <td>2017</td>\n",
       "      <td>290</td>\n",
       "      <td>261</td>\n",
       "    </tr>\n",
       "    <tr>\n",
       "      <th>10</th>\n",
       "      <td>2018</td>\n",
       "      <td>455</td>\n",
       "      <td>321</td>\n",
       "    </tr>\n",
       "    <tr>\n",
       "      <th>11</th>\n",
       "      <td>2019</td>\n",
       "      <td>416</td>\n",
       "      <td>317</td>\n",
       "    </tr>\n",
       "    <tr>\n",
       "      <th>12</th>\n",
       "      <td>2020</td>\n",
       "      <td>200</td>\n",
       "      <td>175</td>\n",
       "    </tr>\n",
       "    <tr>\n",
       "      <th>13</th>\n",
       "      <td>2021</td>\n",
       "      <td>37</td>\n",
       "      <td>32</td>\n",
       "    </tr>\n",
       "  </tbody>\n",
       "</table>\n",
       "</div>"
      ],
      "text/plain": [
       "    season  runs_off_bat  ball\n",
       "0   2008    414           319 \n",
       "1   2009    332           270 \n",
       "2   2010    287           215 \n",
       "3   2011    392           247 \n",
       "4   2012    358           283 \n",
       "5   2013    461           298 \n",
       "6   2014    371           258 \n",
       "7   2015    372           309 \n",
       "8   2016    284           220 \n",
       "9   2017    290           261 \n",
       "10  2018    455           321 \n",
       "11  2019    416           317 \n",
       "12  2020    200           175 \n",
       "13  2021    37            32  "
      ]
     },
     "execution_count": 26,
     "metadata": {},
     "output_type": "execute_result"
    }
   ],
   "source": [
    "msd_3"
   ]
  },
  {
   "cell_type": "code",
   "execution_count": 27,
   "id": "06755a10",
   "metadata": {},
   "outputs": [
    {
     "data": {
      "text/plain": [
       "season          int64\n",
       "runs_off_bat    int64\n",
       "ball            int64\n",
       "dtype: object"
      ]
     },
     "execution_count": 27,
     "metadata": {},
     "output_type": "execute_result"
    }
   ],
   "source": [
    "msd_3.dtypes"
   ]
  },
  {
   "cell_type": "code",
   "execution_count": 28,
   "id": "5daf17f7",
   "metadata": {},
   "outputs": [],
   "source": [
    "msd_3[\"strike_rate\"] = 100*msd_3['runs_off_bat']/msd_3['ball']"
   ]
  },
  {
   "cell_type": "code",
   "execution_count": 29,
   "id": "fac8c710",
   "metadata": {},
   "outputs": [
    {
     "data": {
      "text/html": [
       "<div>\n",
       "<style scoped>\n",
       "    .dataframe tbody tr th:only-of-type {\n",
       "        vertical-align: middle;\n",
       "    }\n",
       "\n",
       "    .dataframe tbody tr th {\n",
       "        vertical-align: top;\n",
       "    }\n",
       "\n",
       "    .dataframe thead th {\n",
       "        text-align: right;\n",
       "    }\n",
       "</style>\n",
       "<table border=\"1\" class=\"dataframe\">\n",
       "  <thead>\n",
       "    <tr style=\"text-align: right;\">\n",
       "      <th></th>\n",
       "      <th>season</th>\n",
       "      <th>runs_off_bat</th>\n",
       "      <th>ball</th>\n",
       "      <th>strike_rate</th>\n",
       "    </tr>\n",
       "  </thead>\n",
       "  <tbody>\n",
       "    <tr>\n",
       "      <th>0</th>\n",
       "      <td>2008</td>\n",
       "      <td>414</td>\n",
       "      <td>319</td>\n",
       "      <td>129.780564</td>\n",
       "    </tr>\n",
       "    <tr>\n",
       "      <th>1</th>\n",
       "      <td>2009</td>\n",
       "      <td>332</td>\n",
       "      <td>270</td>\n",
       "      <td>122.962963</td>\n",
       "    </tr>\n",
       "    <tr>\n",
       "      <th>2</th>\n",
       "      <td>2010</td>\n",
       "      <td>287</td>\n",
       "      <td>215</td>\n",
       "      <td>133.488372</td>\n",
       "    </tr>\n",
       "    <tr>\n",
       "      <th>3</th>\n",
       "      <td>2011</td>\n",
       "      <td>392</td>\n",
       "      <td>247</td>\n",
       "      <td>158.704453</td>\n",
       "    </tr>\n",
       "    <tr>\n",
       "      <th>4</th>\n",
       "      <td>2012</td>\n",
       "      <td>358</td>\n",
       "      <td>283</td>\n",
       "      <td>126.501767</td>\n",
       "    </tr>\n",
       "    <tr>\n",
       "      <th>5</th>\n",
       "      <td>2013</td>\n",
       "      <td>461</td>\n",
       "      <td>298</td>\n",
       "      <td>154.697987</td>\n",
       "    </tr>\n",
       "    <tr>\n",
       "      <th>6</th>\n",
       "      <td>2014</td>\n",
       "      <td>371</td>\n",
       "      <td>258</td>\n",
       "      <td>143.798450</td>\n",
       "    </tr>\n",
       "    <tr>\n",
       "      <th>7</th>\n",
       "      <td>2015</td>\n",
       "      <td>372</td>\n",
       "      <td>309</td>\n",
       "      <td>120.388350</td>\n",
       "    </tr>\n",
       "    <tr>\n",
       "      <th>8</th>\n",
       "      <td>2016</td>\n",
       "      <td>284</td>\n",
       "      <td>220</td>\n",
       "      <td>129.090909</td>\n",
       "    </tr>\n",
       "    <tr>\n",
       "      <th>9</th>\n",
       "      <td>2017</td>\n",
       "      <td>290</td>\n",
       "      <td>261</td>\n",
       "      <td>111.111111</td>\n",
       "    </tr>\n",
       "    <tr>\n",
       "      <th>10</th>\n",
       "      <td>2018</td>\n",
       "      <td>455</td>\n",
       "      <td>321</td>\n",
       "      <td>141.744548</td>\n",
       "    </tr>\n",
       "    <tr>\n",
       "      <th>11</th>\n",
       "      <td>2019</td>\n",
       "      <td>416</td>\n",
       "      <td>317</td>\n",
       "      <td>131.230284</td>\n",
       "    </tr>\n",
       "    <tr>\n",
       "      <th>12</th>\n",
       "      <td>2020</td>\n",
       "      <td>200</td>\n",
       "      <td>175</td>\n",
       "      <td>114.285714</td>\n",
       "    </tr>\n",
       "    <tr>\n",
       "      <th>13</th>\n",
       "      <td>2021</td>\n",
       "      <td>37</td>\n",
       "      <td>32</td>\n",
       "      <td>115.625000</td>\n",
       "    </tr>\n",
       "  </tbody>\n",
       "</table>\n",
       "</div>"
      ],
      "text/plain": [
       "    season  runs_off_bat  ball  strike_rate\n",
       "0   2008    414           319   129.780564 \n",
       "1   2009    332           270   122.962963 \n",
       "2   2010    287           215   133.488372 \n",
       "3   2011    392           247   158.704453 \n",
       "4   2012    358           283   126.501767 \n",
       "5   2013    461           298   154.697987 \n",
       "6   2014    371           258   143.798450 \n",
       "7   2015    372           309   120.388350 \n",
       "8   2016    284           220   129.090909 \n",
       "9   2017    290           261   111.111111 \n",
       "10  2018    455           321   141.744548 \n",
       "11  2019    416           317   131.230284 \n",
       "12  2020    200           175   114.285714 \n",
       "13  2021    37            32    115.625000 "
      ]
     },
     "execution_count": 29,
     "metadata": {},
     "output_type": "execute_result"
    }
   ],
   "source": [
    "msd_3"
   ]
  },
  {
   "cell_type": "code",
   "execution_count": 30,
   "id": "6cfa114b",
   "metadata": {},
   "outputs": [
    {
     "data": {
      "image/png": "[encoded data removed]",
      "text/plain": [
       "<Figure size 432x288 with 1 Axes>"
      ]
     },
     "metadata": {
      "needs_background": "light"
     },
     "output_type": "display_data"
    }
   ],
   "source": [
    "plt.bar(msd_3.season, msd_3.strike_rate)\n",
    "plt.title('Strike Rate of Dhoni across Seasons')\n",
    "plt.xlabel('Season')\n",
    "plt.ylabel('Strike Rate')\n",
    "plt.show()"
   ]
  },
  {
   "cell_type": "code",
   "execution_count": 31,
   "id": "d95a358b",
   "metadata": {},
   "outputs": [],
   "source": [
    "# We could observe that MS Dhoni's Strike Rate is falling from 2018"
   ]
  },
  {
   "cell_type": "markdown",
   "id": "6e92e77f",
   "metadata": {},
   "source": [
    "Since MSD is the middle order batsman who comes in the role of finisher lets compare his strike rate in death overs(16-20) with other"
   ]
  },
  {
   "cell_type": "markdown",
   "id": "7662cadb",
   "metadata": {},
   "source": [
    "### Strike Rate in Death Overs(16-20)"
   ]
  },
  {
   "cell_type": "code",
   "execution_count": 32,
   "id": "8977e2cd",
   "metadata": {},
   "outputs": [],
   "source": [
    "# Data on death overs\n",
    "dth_data = df[df.ball >= 16.1]"
   ]
  },
  {
   "cell_type": "code",
   "execution_count": 33,
   "id": "a0290ca2",
   "metadata": {},
   "outputs": [
    {
     "data": {
      "text/html": [
       "<div>\n",
       "<style scoped>\n",
       "    .dataframe tbody tr th:only-of-type {\n",
       "        vertical-align: middle;\n",
       "    }\n",
       "\n",
       "    .dataframe tbody tr th {\n",
       "        vertical-align: top;\n",
       "    }\n",
       "\n",
       "    .dataframe thead th {\n",
       "        text-align: right;\n",
       "    }\n",
       "</style>\n",
       "<table border=\"1\" class=\"dataframe\">\n",
       "  <thead>\n",
       "    <tr style=\"text-align: right;\">\n",
       "      <th></th>\n",
       "      <th>match_id</th>\n",
       "      <th>season</th>\n",
       "      <th>start_date</th>\n",
       "      <th>venue</th>\n",
       "      <th>innings</th>\n",
       "      <th>ball</th>\n",
       "      <th>batting_team</th>\n",
       "      <th>bowling_team</th>\n",
       "      <th>striker</th>\n",
       "      <th>non_striker</th>\n",
       "      <th>bowler</th>\n",
       "      <th>runs_off_bat</th>\n",
       "      <th>extras</th>\n",
       "      <th>wides</th>\n",
       "      <th>noballs</th>\n",
       "      <th>byes</th>\n",
       "      <th>legbyes</th>\n",
       "      <th>penalty</th>\n",
       "      <th>wicket_type</th>\n",
       "      <th>player_dismissed</th>\n",
       "      <th>other_wicket_type</th>\n",
       "      <th>other_player_dismissed</th>\n",
       "    </tr>\n",
       "  </thead>\n",
       "  <tbody>\n",
       "    <tr>\n",
       "      <th>29</th>\n",
       "      <td>335982</td>\n",
       "      <td>2008</td>\n",
       "      <td>2008-04-18</td>\n",
       "      <td>M Chinnaswamy Stadium</td>\n",
       "      <td>1</td>\n",
       "      <td>18.5</td>\n",
       "      <td>Kolkata Knight Riders</td>\n",
       "      <td>Royal Challengers Bangalore</td>\n",
       "      <td>BB McCullum</td>\n",
       "      <td>Mohammad Hafeez</td>\n",
       "      <td>JH Kallis</td>\n",
       "      <td>1</td>\n",
       "      <td>0</td>\n",
       "      <td>NaN</td>\n",
       "      <td>NaN</td>\n",
       "      <td>NaN</td>\n",
       "      <td>NaN</td>\n",
       "      <td>NaN</td>\n",
       "      <td>NaN</td>\n",
       "      <td>NaN</td>\n",
       "      <td>NaN</td>\n",
       "      <td>NaN</td>\n",
       "    </tr>\n",
       "    <tr>\n",
       "      <th>30</th>\n",
       "      <td>335982</td>\n",
       "      <td>2008</td>\n",
       "      <td>2008-04-18</td>\n",
       "      <td>M Chinnaswamy Stadium</td>\n",
       "      <td>1</td>\n",
       "      <td>18.6</td>\n",
       "      <td>Kolkata Knight Riders</td>\n",
       "      <td>Royal Challengers Bangalore</td>\n",
       "      <td>Mohammad Hafeez</td>\n",
       "      <td>BB McCullum</td>\n",
       "      <td>JH Kallis</td>\n",
       "      <td>4</td>\n",
       "      <td>0</td>\n",
       "      <td>NaN</td>\n",
       "      <td>NaN</td>\n",
       "      <td>NaN</td>\n",
       "      <td>NaN</td>\n",
       "      <td>NaN</td>\n",
       "      <td>NaN</td>\n",
       "      <td>NaN</td>\n",
       "      <td>NaN</td>\n",
       "      <td>NaN</td>\n",
       "    </tr>\n",
       "    <tr>\n",
       "      <th>31</th>\n",
       "      <td>335982</td>\n",
       "      <td>2008</td>\n",
       "      <td>2008-04-18</td>\n",
       "      <td>M Chinnaswamy Stadium</td>\n",
       "      <td>1</td>\n",
       "      <td>19.1</td>\n",
       "      <td>Kolkata Knight Riders</td>\n",
       "      <td>Royal Challengers Bangalore</td>\n",
       "      <td>BB McCullum</td>\n",
       "      <td>Mohammad Hafeez</td>\n",
       "      <td>P Kumar</td>\n",
       "      <td>6</td>\n",
       "      <td>0</td>\n",
       "      <td>NaN</td>\n",
       "      <td>NaN</td>\n",
       "      <td>NaN</td>\n",
       "      <td>NaN</td>\n",
       "      <td>NaN</td>\n",
       "      <td>NaN</td>\n",
       "      <td>NaN</td>\n",
       "      <td>NaN</td>\n",
       "      <td>NaN</td>\n",
       "    </tr>\n",
       "  </tbody>\n",
       "</table>\n",
       "</div>"
      ],
      "text/plain": [
       "    match_id  season  start_date                  venue  innings  ball           batting_team                 bowling_team          striker      non_striker     bowler  runs_off_bat  extras  wides  noballs  byes  legbyes  penalty wicket_type player_dismissed  other_wicket_type  other_player_dismissed\n",
       "29  335982    2008    2008-04-18  M Chinnaswamy Stadium  1        18.5  Kolkata Knight Riders  Royal Challengers Bangalore  BB McCullum      Mohammad Hafeez  JH Kallis  1             0      NaN    NaN      NaN   NaN      NaN       NaN         NaN             NaN                NaN                    \n",
       "30  335982    2008    2008-04-18  M Chinnaswamy Stadium  1        18.6  Kolkata Knight Riders  Royal Challengers Bangalore  Mohammad Hafeez  BB McCullum      JH Kallis  4             0      NaN    NaN      NaN   NaN      NaN       NaN         NaN             NaN                NaN                    \n",
       "31  335982    2008    2008-04-18  M Chinnaswamy Stadium  1        19.1  Kolkata Knight Riders  Royal Challengers Bangalore  BB McCullum      Mohammad Hafeez  P Kumar    6             0      NaN    NaN      NaN   NaN      NaN       NaN         NaN             NaN                NaN                    "
      ]
     },
     "execution_count": 33,
     "metadata": {},
     "output_type": "execute_result"
    }
   ],
   "source": [
    "dth_data.head(3)"
   ]
  },
  {
   "cell_type": "code",
   "execution_count": 34,
   "id": "7ccd8196",
   "metadata": {},
   "outputs": [],
   "source": [
    "dth_r = pd.DataFrame(dth_data.groupby('striker')['runs_off_bat'].sum()).reset_index()"
   ]
  },
  {
   "cell_type": "code",
   "execution_count": 35,
   "id": "a44427fe",
   "metadata": {},
   "outputs": [],
   "source": [
    "dth_b = pd.DataFrame(dth_data.groupby('striker')['ball'].count()).reset_index()"
   ]
  },
  {
   "cell_type": "code",
   "execution_count": 36,
   "id": "fbb53951",
   "metadata": {},
   "outputs": [],
   "source": [
    "dth_df = dth_r.merge(dth_b, on='striker', how='left')"
   ]
  },
  {
   "cell_type": "code",
   "execution_count": 37,
   "id": "2759bbc1",
   "metadata": {},
   "outputs": [
    {
     "data": {
      "text/html": [
       "<div>\n",
       "<style scoped>\n",
       "    .dataframe tbody tr th:only-of-type {\n",
       "        vertical-align: middle;\n",
       "    }\n",
       "\n",
       "    .dataframe tbody tr th {\n",
       "        vertical-align: top;\n",
       "    }\n",
       "\n",
       "    .dataframe thead th {\n",
       "        text-align: right;\n",
       "    }\n",
       "</style>\n",
       "<table border=\"1\" class=\"dataframe\">\n",
       "  <thead>\n",
       "    <tr style=\"text-align: right;\">\n",
       "      <th></th>\n",
       "      <th>striker</th>\n",
       "      <th>runs_off_bat</th>\n",
       "      <th>ball</th>\n",
       "    </tr>\n",
       "  </thead>\n",
       "  <tbody>\n",
       "    <tr>\n",
       "      <th>0</th>\n",
       "      <td>A Ashish Reddy</td>\n",
       "      <td>192</td>\n",
       "      <td>129</td>\n",
       "    </tr>\n",
       "    <tr>\n",
       "      <th>1</th>\n",
       "      <td>A Chandila</td>\n",
       "      <td>4</td>\n",
       "      <td>7</td>\n",
       "    </tr>\n",
       "    <tr>\n",
       "      <th>2</th>\n",
       "      <td>A Choudhary</td>\n",
       "      <td>24</td>\n",
       "      <td>19</td>\n",
       "    </tr>\n",
       "    <tr>\n",
       "      <th>3</th>\n",
       "      <td>A Dananjaya</td>\n",
       "      <td>4</td>\n",
       "      <td>5</td>\n",
       "    </tr>\n",
       "    <tr>\n",
       "      <th>4</th>\n",
       "      <td>A Flintoff</td>\n",
       "      <td>22</td>\n",
       "      <td>14</td>\n",
       "    </tr>\n",
       "  </tbody>\n",
       "</table>\n",
       "</div>"
      ],
      "text/plain": [
       "          striker  runs_off_bat  ball\n",
       "0  A Ashish Reddy  192           129 \n",
       "1  A Chandila      4             7   \n",
       "2  A Choudhary     24            19  \n",
       "3  A Dananjaya     4             5   \n",
       "4  A Flintoff      22            14  "
      ]
     },
     "execution_count": 37,
     "metadata": {},
     "output_type": "execute_result"
    }
   ],
   "source": [
    "dth_df.head()"
   ]
  },
  {
   "cell_type": "code",
   "execution_count": 38,
   "id": "295499e1",
   "metadata": {},
   "outputs": [],
   "source": [
    "# We are only considering batsman who has faced a total of 175 ball in IPL\n",
    "dth_df = dth_df[dth_df.ball >= 175]"
   ]
  },
  {
   "cell_type": "code",
   "execution_count": 39,
   "id": "4f6b8935",
   "metadata": {},
   "outputs": [
    {
     "data": {
      "text/html": [
       "<div>\n",
       "<style scoped>\n",
       "    .dataframe tbody tr th:only-of-type {\n",
       "        vertical-align: middle;\n",
       "    }\n",
       "\n",
       "    .dataframe tbody tr th {\n",
       "        vertical-align: top;\n",
       "    }\n",
       "\n",
       "    .dataframe thead th {\n",
       "        text-align: right;\n",
       "    }\n",
       "</style>\n",
       "<table border=\"1\" class=\"dataframe\">\n",
       "  <thead>\n",
       "    <tr style=\"text-align: right;\">\n",
       "      <th></th>\n",
       "      <th>striker</th>\n",
       "      <th>runs_off_bat</th>\n",
       "      <th>ball</th>\n",
       "    </tr>\n",
       "  </thead>\n",
       "  <tbody>\n",
       "    <tr>\n",
       "      <th>6</th>\n",
       "      <td>A Mishra</td>\n",
       "      <td>224</td>\n",
       "      <td>209</td>\n",
       "    </tr>\n",
       "    <tr>\n",
       "      <th>22</th>\n",
       "      <td>AB de Villiers</td>\n",
       "      <td>1369</td>\n",
       "      <td>608</td>\n",
       "    </tr>\n",
       "    <tr>\n",
       "      <th>27</th>\n",
       "      <td>AD Mathews</td>\n",
       "      <td>322</td>\n",
       "      <td>223</td>\n",
       "    </tr>\n",
       "    <tr>\n",
       "      <th>29</th>\n",
       "      <td>AD Russell</td>\n",
       "      <td>739</td>\n",
       "      <td>379</td>\n",
       "    </tr>\n",
       "    <tr>\n",
       "      <th>37</th>\n",
       "      <td>AM Rahane</td>\n",
       "      <td>353</td>\n",
       "      <td>230</td>\n",
       "    </tr>\n",
       "  </tbody>\n",
       "</table>\n",
       "</div>"
      ],
      "text/plain": [
       "           striker  runs_off_bat  ball\n",
       "6   A Mishra        224           209 \n",
       "22  AB de Villiers  1369          608 \n",
       "27  AD Mathews      322           223 \n",
       "29  AD Russell      739           379 \n",
       "37  AM Rahane       353           230 "
      ]
     },
     "execution_count": 39,
     "metadata": {},
     "output_type": "execute_result"
    }
   ],
   "source": [
    "dth_df.head()"
   ]
  },
  {
   "cell_type": "code",
   "execution_count": 40,
   "id": "7bbea556",
   "metadata": {},
   "outputs": [],
   "source": [
    "dth_df['strike_rate'] = 100*dth_df['runs_off_bat']/dth_df['ball']"
   ]
  },
  {
   "cell_type": "code",
   "execution_count": 41,
   "id": "37eda0a9",
   "metadata": {},
   "outputs": [
    {
     "data": {
      "text/html": [
       "<div>\n",
       "<style scoped>\n",
       "    .dataframe tbody tr th:only-of-type {\n",
       "        vertical-align: middle;\n",
       "    }\n",
       "\n",
       "    .dataframe tbody tr th {\n",
       "        vertical-align: top;\n",
       "    }\n",
       "\n",
       "    .dataframe thead th {\n",
       "        text-align: right;\n",
       "    }\n",
       "</style>\n",
       "<table border=\"1\" class=\"dataframe\">\n",
       "  <thead>\n",
       "    <tr style=\"text-align: right;\">\n",
       "      <th></th>\n",
       "      <th>striker</th>\n",
       "      <th>runs_off_bat</th>\n",
       "      <th>ball</th>\n",
       "      <th>strike_rate</th>\n",
       "    </tr>\n",
       "  </thead>\n",
       "  <tbody>\n",
       "    <tr>\n",
       "      <th>22</th>\n",
       "      <td>AB de Villiers</td>\n",
       "      <td>1369</td>\n",
       "      <td>608</td>\n",
       "      <td>225.164474</td>\n",
       "    </tr>\n",
       "    <tr>\n",
       "      <th>356</th>\n",
       "      <td>RR Pant</td>\n",
       "      <td>437</td>\n",
       "      <td>219</td>\n",
       "      <td>199.543379</td>\n",
       "    </tr>\n",
       "    <tr>\n",
       "      <th>453</th>\n",
       "      <td>V Kohli</td>\n",
       "      <td>969</td>\n",
       "      <td>492</td>\n",
       "      <td>196.951220</td>\n",
       "    </tr>\n",
       "    <tr>\n",
       "      <th>29</th>\n",
       "      <td>AD Russell</td>\n",
       "      <td>739</td>\n",
       "      <td>379</td>\n",
       "      <td>194.986807</td>\n",
       "    </tr>\n",
       "    <tr>\n",
       "      <th>86</th>\n",
       "      <td>CH Gayle</td>\n",
       "      <td>404</td>\n",
       "      <td>209</td>\n",
       "      <td>193.301435</td>\n",
       "    </tr>\n",
       "    <tr>\n",
       "      <th>418</th>\n",
       "      <td>SV Samson</td>\n",
       "      <td>355</td>\n",
       "      <td>187</td>\n",
       "      <td>189.839572</td>\n",
       "    </tr>\n",
       "    <tr>\n",
       "      <th>349</th>\n",
       "      <td>RG Sharma</td>\n",
       "      <td>1145</td>\n",
       "      <td>605</td>\n",
       "      <td>189.256198</td>\n",
       "    </tr>\n",
       "    <tr>\n",
       "      <th>214</th>\n",
       "      <td>KL Rahul</td>\n",
       "      <td>418</td>\n",
       "      <td>221</td>\n",
       "      <td>189.140271</td>\n",
       "    </tr>\n",
       "    <tr>\n",
       "      <th>105</th>\n",
       "      <td>DA Warner</td>\n",
       "      <td>372</td>\n",
       "      <td>199</td>\n",
       "      <td>186.934673</td>\n",
       "    </tr>\n",
       "    <tr>\n",
       "      <th>279</th>\n",
       "      <td>MS Dhoni</td>\n",
       "      <td>2334</td>\n",
       "      <td>1294</td>\n",
       "      <td>180.370943</td>\n",
       "    </tr>\n",
       "    <tr>\n",
       "      <th>104</th>\n",
       "      <td>DA Miller</td>\n",
       "      <td>620</td>\n",
       "      <td>344</td>\n",
       "      <td>180.232558</td>\n",
       "    </tr>\n",
       "    <tr>\n",
       "      <th>111</th>\n",
       "      <td>DJ Bravo</td>\n",
       "      <td>762</td>\n",
       "      <td>423</td>\n",
       "      <td>180.141844</td>\n",
       "    </tr>\n",
       "    <tr>\n",
       "      <th>190</th>\n",
       "      <td>JP Duminy</td>\n",
       "      <td>712</td>\n",
       "      <td>402</td>\n",
       "      <td>177.114428</td>\n",
       "    </tr>\n",
       "    <tr>\n",
       "      <th>150</th>\n",
       "      <td>HH Pandya</td>\n",
       "      <td>866</td>\n",
       "      <td>491</td>\n",
       "      <td>176.374745</td>\n",
       "    </tr>\n",
       "    <tr>\n",
       "      <th>202</th>\n",
       "      <td>KA Pollard</td>\n",
       "      <td>1591</td>\n",
       "      <td>906</td>\n",
       "      <td>175.607064</td>\n",
       "    </tr>\n",
       "    <tr>\n",
       "      <th>207</th>\n",
       "      <td>KD Karthik</td>\n",
       "      <td>970</td>\n",
       "      <td>553</td>\n",
       "      <td>175.406872</td>\n",
       "    </tr>\n",
       "    <tr>\n",
       "      <th>130</th>\n",
       "      <td>EJG Morgan</td>\n",
       "      <td>384</td>\n",
       "      <td>226</td>\n",
       "      <td>169.911504</td>\n",
       "    </tr>\n",
       "    <tr>\n",
       "      <th>122</th>\n",
       "      <td>DPMD Jayawardene</td>\n",
       "      <td>313</td>\n",
       "      <td>185</td>\n",
       "      <td>169.189189</td>\n",
       "    </tr>\n",
       "    <tr>\n",
       "      <th>87</th>\n",
       "      <td>CH Morris</td>\n",
       "      <td>438</td>\n",
       "      <td>259</td>\n",
       "      <td>169.111969</td>\n",
       "    </tr>\n",
       "    <tr>\n",
       "      <th>411</th>\n",
       "      <td>SPD Smith</td>\n",
       "      <td>554</td>\n",
       "      <td>331</td>\n",
       "      <td>167.371601</td>\n",
       "    </tr>\n",
       "  </tbody>\n",
       "</table>\n",
       "</div>"
      ],
      "text/plain": [
       "              striker  runs_off_bat  ball  strike_rate\n",
       "22   AB de Villiers    1369          608   225.164474 \n",
       "356  RR Pant           437           219   199.543379 \n",
       "453  V Kohli           969           492   196.951220 \n",
       "29   AD Russell        739           379   194.986807 \n",
       "86   CH Gayle          404           209   193.301435 \n",
       "418  SV Samson         355           187   189.839572 \n",
       "349  RG Sharma         1145          605   189.256198 \n",
       "214  KL Rahul          418           221   189.140271 \n",
       "105  DA Warner         372           199   186.934673 \n",
       "279  MS Dhoni          2334          1294  180.370943 \n",
       "104  DA Miller         620           344   180.232558 \n",
       "111  DJ Bravo          762           423   180.141844 \n",
       "190  JP Duminy         712           402   177.114428 \n",
       "150  HH Pandya         866           491   176.374745 \n",
       "202  KA Pollard        1591          906   175.607064 \n",
       "207  KD Karthik        970           553   175.406872 \n",
       "130  EJG Morgan        384           226   169.911504 \n",
       "122  DPMD Jayawardene  313           185   169.189189 \n",
       "87   CH Morris         438           259   169.111969 \n",
       "411  SPD Smith         554           331   167.371601 "
      ]
     },
     "execution_count": 41,
     "metadata": {},
     "output_type": "execute_result"
    }
   ],
   "source": [
    "dth_df.sort_values('strike_rate', ascending = False).head(20)"
   ]
  },
  {
   "cell_type": "code",
   "execution_count": 42,
   "id": "db6089e7",
   "metadata": {},
   "outputs": [],
   "source": [
    "msd_dth = msd_df[msd_df.ball >= 16.1]"
   ]
  },
  {
   "cell_type": "code",
   "execution_count": 43,
   "id": "01e7f375",
   "metadata": {},
   "outputs": [
    {
     "data": {
      "text/plain": [
       "180.370942812983"
      ]
     },
     "execution_count": 43,
     "metadata": {},
     "output_type": "execute_result"
    }
   ],
   "source": [
    "# Strike Rate of Dhoni in Death Overs\n",
    "100*sum(msd_dth.runs_off_bat)/len(msd_dth)"
   ]
  },
  {
   "cell_type": "code",
   "execution_count": 44,
   "id": "7d9b7117",
   "metadata": {},
   "outputs": [],
   "source": [
    "dth_df.reset_index(inplace = True, drop = True)"
   ]
  },
  {
   "cell_type": "code",
   "execution_count": 109,
   "id": "808efad7",
   "metadata": {},
   "outputs": [
    {
     "data": {
      "image/png": "[encoded data removed]",
      "text/plain": [
       "<Figure size 936x576 with 1 Axes>"
      ]
     },
     "metadata": {
      "needs_background": "light"
     },
     "output_type": "display_data"
    }
   ],
   "source": [
    "plt.figure(figsize = (13, 8))\n",
    "plt.scatter(dth_df.strike_rate, dth_df.runs_off_bat, color='green')\n",
    "\n",
    "for i in range(len(dth_df)):\n",
    "    if dth_df['striker'][i] == 'SV Samson':\n",
    "        plt.text(dth_df['strike_rate'][i] -4, dth_df['runs_off_bat'][i]-85, dth_df['striker'][i] )\n",
    "    elif dth_df['striker'][i] == 'MS Dhoni':\n",
    "        plt.text(dth_df['strike_rate'][i] -8, dth_df['runs_off_bat'][i]-5, dth_df['striker'][i], color='red' )\n",
    "    elif dth_df['striker'][i] == 'DA Warner':\n",
    "        plt.text(dth_df['strike_rate'][i] -9, dth_df['runs_off_bat'][i]-40, dth_df['striker'][i] )\n",
    "    elif dth_df['strike_rate'][i] >= 170:\n",
    "        plt.text(dth_df['strike_rate'][i] -1, dth_df['runs_off_bat'][i] +35, dth_df['striker'][i] )\n",
    "    else:\n",
    "        plt.text(dth_df['strike_rate'][i] -8, dth_df['runs_off_bat'][i] +6, '' )\n",
    "\n",
    "plt.xlabel('Strike rate')\n",
    "plt.ylabel('Runs scored')\n",
    "plt.title(\"Comparing runs & strike_rate of Batsman in death overs\", fontsize = '20')\n",
    "plt.axvline(180, ls = '--', color = 'grey')\n",
    "plt.axhline(900, ls = '--', color = 'grey')            \n",
    "plt.show()    \n"
   ]
  },
  {
   "cell_type": "code",
   "execution_count": 46,
   "id": "ba1534fa",
   "metadata": {},
   "outputs": [],
   "source": [
    "# Being the top run scorer in death overs MS Dhoni has a good strike rate when compared to others"
   ]
  },
  {
   "cell_type": "markdown",
   "id": "f549c4e4",
   "metadata": {},
   "source": [
    "### Strike Rate in Death Overs(16-20) from 2018"
   ]
  },
  {
   "cell_type": "code",
   "execution_count": 47,
   "id": "38de9f9e",
   "metadata": {},
   "outputs": [],
   "source": [
    "# Data on death overs from 2018\n",
    "dth_18 = dth_data[dth_data.season >= 2018]"
   ]
  },
  {
   "cell_type": "code",
   "execution_count": 48,
   "id": "267ac575",
   "metadata": {},
   "outputs": [],
   "source": [
    "dth_i = pd.DataFrame(dth_18.groupby('striker')['runs_off_bat'].sum()).reset_index()"
   ]
  },
  {
   "cell_type": "code",
   "execution_count": 49,
   "id": "48f84859",
   "metadata": {},
   "outputs": [],
   "source": [
    "dth_ii = pd.DataFrame(dth_18.groupby('striker')['ball'].count()).reset_index()"
   ]
  },
  {
   "cell_type": "code",
   "execution_count": 50,
   "id": "8cde3b83",
   "metadata": {},
   "outputs": [],
   "source": [
    "dth_iii = dth_i.merge(dth_ii, on = 'striker', how='left')"
   ]
  },
  {
   "cell_type": "code",
   "execution_count": 51,
   "id": "35fff08b",
   "metadata": {},
   "outputs": [
    {
     "data": {
      "text/html": [
       "<div>\n",
       "<style scoped>\n",
       "    .dataframe tbody tr th:only-of-type {\n",
       "        vertical-align: middle;\n",
       "    }\n",
       "\n",
       "    .dataframe tbody tr th {\n",
       "        vertical-align: top;\n",
       "    }\n",
       "\n",
       "    .dataframe thead th {\n",
       "        text-align: right;\n",
       "    }\n",
       "</style>\n",
       "<table border=\"1\" class=\"dataframe\">\n",
       "  <thead>\n",
       "    <tr style=\"text-align: right;\">\n",
       "      <th></th>\n",
       "      <th>striker</th>\n",
       "      <th>runs_off_bat</th>\n",
       "      <th>ball</th>\n",
       "    </tr>\n",
       "  </thead>\n",
       "  <tbody>\n",
       "    <tr>\n",
       "      <th>0</th>\n",
       "      <td>A Dananjaya</td>\n",
       "      <td>4</td>\n",
       "      <td>5</td>\n",
       "    </tr>\n",
       "    <tr>\n",
       "      <th>1</th>\n",
       "      <td>A Mishra</td>\n",
       "      <td>14</td>\n",
       "      <td>19</td>\n",
       "    </tr>\n",
       "    <tr>\n",
       "      <th>2</th>\n",
       "      <td>A Nortje</td>\n",
       "      <td>7</td>\n",
       "      <td>6</td>\n",
       "    </tr>\n",
       "    <tr>\n",
       "      <th>3</th>\n",
       "      <td>AB de Villiers</td>\n",
       "      <td>464</td>\n",
       "      <td>199</td>\n",
       "    </tr>\n",
       "    <tr>\n",
       "      <th>4</th>\n",
       "      <td>AD Nath</td>\n",
       "      <td>11</td>\n",
       "      <td>7</td>\n",
       "    </tr>\n",
       "  </tbody>\n",
       "</table>\n",
       "</div>"
      ],
      "text/plain": [
       "          striker  runs_off_bat  ball\n",
       "0  A Dananjaya     4             5   \n",
       "1  A Mishra        14            19  \n",
       "2  A Nortje        7             6   \n",
       "3  AB de Villiers  464           199 \n",
       "4  AD Nath         11            7   "
      ]
     },
     "execution_count": 51,
     "metadata": {},
     "output_type": "execute_result"
    }
   ],
   "source": [
    "dth_iii.head()"
   ]
  },
  {
   "cell_type": "code",
   "execution_count": 52,
   "id": "d38ffabf",
   "metadata": {},
   "outputs": [],
   "source": [
    "# We are considering batsman who has faced more than 35 ball\n",
    "dth_iii = dth_iii[dth_iii.ball >= 35]"
   ]
  },
  {
   "cell_type": "code",
   "execution_count": 53,
   "id": "9516d2aa",
   "metadata": {},
   "outputs": [
    {
     "data": {
      "text/html": [
       "<div>\n",
       "<style scoped>\n",
       "    .dataframe tbody tr th:only-of-type {\n",
       "        vertical-align: middle;\n",
       "    }\n",
       "\n",
       "    .dataframe tbody tr th {\n",
       "        vertical-align: top;\n",
       "    }\n",
       "\n",
       "    .dataframe thead th {\n",
       "        text-align: right;\n",
       "    }\n",
       "</style>\n",
       "<table border=\"1\" class=\"dataframe\">\n",
       "  <thead>\n",
       "    <tr style=\"text-align: right;\">\n",
       "      <th></th>\n",
       "      <th>striker</th>\n",
       "      <th>runs_off_bat</th>\n",
       "      <th>ball</th>\n",
       "    </tr>\n",
       "  </thead>\n",
       "  <tbody>\n",
       "    <tr>\n",
       "      <th>3</th>\n",
       "      <td>AB de Villiers</td>\n",
       "      <td>464</td>\n",
       "      <td>199</td>\n",
       "    </tr>\n",
       "    <tr>\n",
       "      <th>5</th>\n",
       "      <td>AD Russell</td>\n",
       "      <td>542</td>\n",
       "      <td>257</td>\n",
       "    </tr>\n",
       "    <tr>\n",
       "      <th>10</th>\n",
       "      <td>AR Patel</td>\n",
       "      <td>164</td>\n",
       "      <td>114</td>\n",
       "    </tr>\n",
       "    <tr>\n",
       "      <th>14</th>\n",
       "      <td>AT Rayudu</td>\n",
       "      <td>195</td>\n",
       "      <td>131</td>\n",
       "    </tr>\n",
       "    <tr>\n",
       "      <th>15</th>\n",
       "      <td>Abdul Samad</td>\n",
       "      <td>98</td>\n",
       "      <td>64</td>\n",
       "    </tr>\n",
       "  </tbody>\n",
       "</table>\n",
       "</div>"
      ],
      "text/plain": [
       "           striker  runs_off_bat  ball\n",
       "3   AB de Villiers  464           199 \n",
       "5   AD Russell      542           257 \n",
       "10  AR Patel        164           114 \n",
       "14  AT Rayudu       195           131 \n",
       "15  Abdul Samad     98            64  "
      ]
     },
     "execution_count": 53,
     "metadata": {},
     "output_type": "execute_result"
    }
   ],
   "source": [
    "dth_iii.head()"
   ]
  },
  {
   "cell_type": "code",
   "execution_count": 54,
   "id": "d62a4ee8",
   "metadata": {},
   "outputs": [],
   "source": [
    "dth_iii['strike_rate'] = 100*dth_iii['runs_off_bat']/dth_iii['ball']"
   ]
  },
  {
   "cell_type": "code",
   "execution_count": 55,
   "id": "9f8e7b09",
   "metadata": {},
   "outputs": [
    {
     "data": {
      "text/html": [
       "<div>\n",
       "<style scoped>\n",
       "    .dataframe tbody tr th:only-of-type {\n",
       "        vertical-align: middle;\n",
       "    }\n",
       "\n",
       "    .dataframe tbody tr th {\n",
       "        vertical-align: top;\n",
       "    }\n",
       "\n",
       "    .dataframe thead th {\n",
       "        text-align: right;\n",
       "    }\n",
       "</style>\n",
       "<table border=\"1\" class=\"dataframe\">\n",
       "  <thead>\n",
       "    <tr style=\"text-align: right;\">\n",
       "      <th></th>\n",
       "      <th>striker</th>\n",
       "      <th>runs_off_bat</th>\n",
       "      <th>ball</th>\n",
       "      <th>strike_rate</th>\n",
       "    </tr>\n",
       "  </thead>\n",
       "  <tbody>\n",
       "    <tr>\n",
       "      <th>49</th>\n",
       "      <td>F du Plessis</td>\n",
       "      <td>159</td>\n",
       "      <td>65</td>\n",
       "      <td>244.615385</td>\n",
       "    </tr>\n",
       "    <tr>\n",
       "      <th>3</th>\n",
       "      <td>AB de Villiers</td>\n",
       "      <td>464</td>\n",
       "      <td>199</td>\n",
       "      <td>233.165829</td>\n",
       "    </tr>\n",
       "    <tr>\n",
       "      <th>106</th>\n",
       "      <td>MA Agarwal</td>\n",
       "      <td>116</td>\n",
       "      <td>52</td>\n",
       "      <td>223.076923</td>\n",
       "    </tr>\n",
       "    <tr>\n",
       "      <th>5</th>\n",
       "      <td>AD Russell</td>\n",
       "      <td>542</td>\n",
       "      <td>257</td>\n",
       "      <td>210.894942</td>\n",
       "    </tr>\n",
       "    <tr>\n",
       "      <th>190</th>\n",
       "      <td>V Kohli</td>\n",
       "      <td>245</td>\n",
       "      <td>118</td>\n",
       "      <td>207.627119</td>\n",
       "    </tr>\n",
       "    <tr>\n",
       "      <th>48</th>\n",
       "      <td>EJG Morgan</td>\n",
       "      <td>173</td>\n",
       "      <td>85</td>\n",
       "      <td>203.529412</td>\n",
       "    </tr>\n",
       "    <tr>\n",
       "      <th>91</th>\n",
       "      <td>KL Rahul</td>\n",
       "      <td>335</td>\n",
       "      <td>166</td>\n",
       "      <td>201.807229</td>\n",
       "    </tr>\n",
       "    <tr>\n",
       "      <th>151</th>\n",
       "      <td>RR Pant</td>\n",
       "      <td>369</td>\n",
       "      <td>185</td>\n",
       "      <td>199.459459</td>\n",
       "    </tr>\n",
       "    <tr>\n",
       "      <th>177</th>\n",
       "      <td>SV Samson</td>\n",
       "      <td>179</td>\n",
       "      <td>90</td>\n",
       "      <td>198.888889</td>\n",
       "    </tr>\n",
       "    <tr>\n",
       "      <th>58</th>\n",
       "      <td>HV Patel</td>\n",
       "      <td>75</td>\n",
       "      <td>38</td>\n",
       "      <td>197.368421</td>\n",
       "    </tr>\n",
       "    <tr>\n",
       "      <th>168</th>\n",
       "      <td>SO Hetmyer</td>\n",
       "      <td>146</td>\n",
       "      <td>74</td>\n",
       "      <td>197.297297</td>\n",
       "    </tr>\n",
       "    <tr>\n",
       "      <th>65</th>\n",
       "      <td>Ishan Kishan</td>\n",
       "      <td>88</td>\n",
       "      <td>45</td>\n",
       "      <td>195.555556</td>\n",
       "    </tr>\n",
       "    <tr>\n",
       "      <th>81</th>\n",
       "      <td>K Gowtham</td>\n",
       "      <td>116</td>\n",
       "      <td>61</td>\n",
       "      <td>190.163934</td>\n",
       "    </tr>\n",
       "    <tr>\n",
       "      <th>84</th>\n",
       "      <td>KA Pollard</td>\n",
       "      <td>495</td>\n",
       "      <td>261</td>\n",
       "      <td>189.655172</td>\n",
       "    </tr>\n",
       "    <tr>\n",
       "      <th>89</th>\n",
       "      <td>KK Nair</td>\n",
       "      <td>72</td>\n",
       "      <td>38</td>\n",
       "      <td>189.473684</td>\n",
       "    </tr>\n",
       "    <tr>\n",
       "      <th>165</th>\n",
       "      <td>SM Curran</td>\n",
       "      <td>174</td>\n",
       "      <td>92</td>\n",
       "      <td>189.130435</td>\n",
       "    </tr>\n",
       "    <tr>\n",
       "      <th>86</th>\n",
       "      <td>KD Karthik</td>\n",
       "      <td>425</td>\n",
       "      <td>229</td>\n",
       "      <td>185.589520</td>\n",
       "    </tr>\n",
       "    <tr>\n",
       "      <th>174</th>\n",
       "      <td>SS Iyer</td>\n",
       "      <td>174</td>\n",
       "      <td>94</td>\n",
       "      <td>185.106383</td>\n",
       "    </tr>\n",
       "    <tr>\n",
       "      <th>176</th>\n",
       "      <td>STR Binny</td>\n",
       "      <td>79</td>\n",
       "      <td>43</td>\n",
       "      <td>183.720930</td>\n",
       "    </tr>\n",
       "    <tr>\n",
       "      <th>57</th>\n",
       "      <td>HH Pandya</td>\n",
       "      <td>605</td>\n",
       "      <td>331</td>\n",
       "      <td>182.779456</td>\n",
       "    </tr>\n",
       "  </tbody>\n",
       "</table>\n",
       "</div>"
      ],
      "text/plain": [
       "            striker  runs_off_bat  ball  strike_rate\n",
       "49   F du Plessis    159           65    244.615385 \n",
       "3    AB de Villiers  464           199   233.165829 \n",
       "106  MA Agarwal      116           52    223.076923 \n",
       "5    AD Russell      542           257   210.894942 \n",
       "190  V Kohli         245           118   207.627119 \n",
       "48   EJG Morgan      173           85    203.529412 \n",
       "91   KL Rahul        335           166   201.807229 \n",
       "151  RR Pant         369           185   199.459459 \n",
       "177  SV Samson       179           90    198.888889 \n",
       "58   HV Patel        75            38    197.368421 \n",
       "168  SO Hetmyer      146           74    197.297297 \n",
       "65   Ishan Kishan    88            45    195.555556 \n",
       "81   K Gowtham       116           61    190.163934 \n",
       "84   KA Pollard      495           261   189.655172 \n",
       "89   KK Nair         72            38    189.473684 \n",
       "165  SM Curran       174           92    189.130435 \n",
       "86   KD Karthik      425           229   185.589520 \n",
       "174  SS Iyer         174           94    185.106383 \n",
       "176  STR Binny       79            43    183.720930 \n",
       "57   HH Pandya       605           331   182.779456 "
      ]
     },
     "execution_count": 55,
     "metadata": {},
     "output_type": "execute_result"
    }
   ],
   "source": [
    "dth_iii.sort_values('strike_rate', ascending = False).head(20)"
   ]
  },
  {
   "cell_type": "code",
   "execution_count": 56,
   "id": "79b6a6cb",
   "metadata": {},
   "outputs": [],
   "source": [
    "msd_18 = msd_dth[msd_dth.season >= 2018]"
   ]
  },
  {
   "cell_type": "code",
   "execution_count": 57,
   "id": "8303607c",
   "metadata": {},
   "outputs": [
    {
     "data": {
      "text/plain": [
       "179.5977011494253"
      ]
     },
     "execution_count": 57,
     "metadata": {},
     "output_type": "execute_result"
    }
   ],
   "source": [
    "# Strike Rate of MSD in death overs from 2018\n",
    "100*sum(msd_18.runs_off_bat)/len(msd_18)"
   ]
  },
  {
   "cell_type": "code",
   "execution_count": 58,
   "id": "d565998b",
   "metadata": {},
   "outputs": [],
   "source": [
    "dth_iii.reset_index(inplace = True, drop = True)"
   ]
  },
  {
   "cell_type": "code",
   "execution_count": 108,
   "id": "0c4f281c",
   "metadata": {},
   "outputs": [
    {
     "data": {
      "image/png": "[encoded data removed]",
      "text/plain": [
       "<Figure size 936x576 with 1 Axes>"
      ]
     },
     "metadata": {
      "needs_background": "light"
     },
     "output_type": "display_data"
    }
   ],
   "source": [
    "plt.figure(figsize = (13, 8))\n",
    "plt.rcParams['axes.facecolor'] = '#fff7fb'\n",
    "plt.scatter(dth_iii.strike_rate, dth_iii.runs_off_bat)\n",
    "\n",
    "for i in range(len(dth_iii)):\n",
    "    if dth_iii['striker'][i] == 'AB de Villiers':\n",
    "        plt.text(dth_iii['strike_rate'][i] -10, dth_iii['runs_off_bat'][i]+15, dth_iii['striker'][i] )\n",
    "    elif dth_iii['striker'][i] == 'MS Dhoni':\n",
    "        plt.text(dth_iii['strike_rate'][i] -10, dth_iii['runs_off_bat'][i]+12, dth_iii['striker'][i], color='red' )\n",
    "    elif dth_iii['strike_rate'][i] >= 170:\n",
    "        plt.text(dth_iii['strike_rate'][i] -1, dth_iii['runs_off_bat'][i] +10, dth_iii['striker'][i] )\n",
    "    else:\n",
    "        plt.text(dth_iii['strike_rate'][i] -8, dth_iii['runs_off_bat'][i] +6, '' )\n",
    "\n",
    "plt.xlabel('Strike rate')\n",
    "plt.ylabel('Runs scored')\n",
    "plt.title(\"Comparing runs & strike_rate of Batsman in death overs from 2018-21\", fontsize = '20')        \n",
    "plt.axvline(180, ls = '--', color = 'grey')\n",
    "plt.axhline(300, ls = '--', color = 'grey')        \n",
    "    \n",
    "plt.show()    "
   ]
  },
  {
   "cell_type": "code",
   "execution_count": 60,
   "id": "e926ae43",
   "metadata": {},
   "outputs": [],
   "source": [
    "# Even though MS Dhoni is not in the top 20 batsman who has high strike rate from 2018 his Strike Rate stands close to them"
   ]
  },
  {
   "cell_type": "markdown",
   "id": "7db98e70",
   "metadata": {},
   "source": [
    "### Strike Rate in Death Overs(16-20) in 2020 and 2021"
   ]
  },
  {
   "cell_type": "code",
   "execution_count": 61,
   "id": "cff6c79d",
   "metadata": {},
   "outputs": [],
   "source": [
    "# Data on death overs from 2018\n",
    "dth_20 = dth_data[dth_data.season >= 2020]"
   ]
  },
  {
   "cell_type": "code",
   "execution_count": 62,
   "id": "0407eb49",
   "metadata": {},
   "outputs": [
    {
     "data": {
      "text/html": [
       "<div>\n",
       "<style scoped>\n",
       "    .dataframe tbody tr th:only-of-type {\n",
       "        vertical-align: middle;\n",
       "    }\n",
       "\n",
       "    .dataframe tbody tr th {\n",
       "        vertical-align: top;\n",
       "    }\n",
       "\n",
       "    .dataframe thead th {\n",
       "        text-align: right;\n",
       "    }\n",
       "</style>\n",
       "<table border=\"1\" class=\"dataframe\">\n",
       "  <thead>\n",
       "    <tr style=\"text-align: right;\">\n",
       "      <th></th>\n",
       "      <th>match_id</th>\n",
       "      <th>season</th>\n",
       "      <th>start_date</th>\n",
       "      <th>venue</th>\n",
       "      <th>innings</th>\n",
       "      <th>ball</th>\n",
       "      <th>batting_team</th>\n",
       "      <th>bowling_team</th>\n",
       "      <th>striker</th>\n",
       "      <th>non_striker</th>\n",
       "      <th>bowler</th>\n",
       "      <th>runs_off_bat</th>\n",
       "      <th>extras</th>\n",
       "      <th>wides</th>\n",
       "      <th>noballs</th>\n",
       "      <th>byes</th>\n",
       "      <th>legbyes</th>\n",
       "      <th>penalty</th>\n",
       "      <th>wicket_type</th>\n",
       "      <th>player_dismissed</th>\n",
       "      <th>other_wicket_type</th>\n",
       "      <th>other_player_dismissed</th>\n",
       "    </tr>\n",
       "  </thead>\n",
       "  <tbody>\n",
       "    <tr>\n",
       "      <th>179124</th>\n",
       "      <td>1216492</td>\n",
       "      <td>2020</td>\n",
       "      <td>2020-09-19</td>\n",
       "      <td>Sheikh Zayed Stadium</td>\n",
       "      <td>2</td>\n",
       "      <td>16.1</td>\n",
       "      <td>Chennai Super Kings</td>\n",
       "      <td>Mumbai Indians</td>\n",
       "      <td>RA Jadeja</td>\n",
       "      <td>F du Plessis</td>\n",
       "      <td>JL Pattinson</td>\n",
       "      <td>4</td>\n",
       "      <td>0</td>\n",
       "      <td>NaN</td>\n",
       "      <td>NaN</td>\n",
       "      <td>NaN</td>\n",
       "      <td>NaN</td>\n",
       "      <td>NaN</td>\n",
       "      <td>NaN</td>\n",
       "      <td>NaN</td>\n",
       "      <td>NaN</td>\n",
       "      <td>NaN</td>\n",
       "    </tr>\n",
       "    <tr>\n",
       "      <th>179125</th>\n",
       "      <td>1216492</td>\n",
       "      <td>2020</td>\n",
       "      <td>2020-09-19</td>\n",
       "      <td>Sheikh Zayed Stadium</td>\n",
       "      <td>2</td>\n",
       "      <td>16.2</td>\n",
       "      <td>Chennai Super Kings</td>\n",
       "      <td>Mumbai Indians</td>\n",
       "      <td>RA Jadeja</td>\n",
       "      <td>F du Plessis</td>\n",
       "      <td>JL Pattinson</td>\n",
       "      <td>1</td>\n",
       "      <td>0</td>\n",
       "      <td>NaN</td>\n",
       "      <td>NaN</td>\n",
       "      <td>NaN</td>\n",
       "      <td>NaN</td>\n",
       "      <td>NaN</td>\n",
       "      <td>NaN</td>\n",
       "      <td>NaN</td>\n",
       "      <td>NaN</td>\n",
       "      <td>NaN</td>\n",
       "    </tr>\n",
       "    <tr>\n",
       "      <th>179126</th>\n",
       "      <td>1216492</td>\n",
       "      <td>2020</td>\n",
       "      <td>2020-09-19</td>\n",
       "      <td>Sheikh Zayed Stadium</td>\n",
       "      <td>2</td>\n",
       "      <td>16.3</td>\n",
       "      <td>Chennai Super Kings</td>\n",
       "      <td>Mumbai Indians</td>\n",
       "      <td>F du Plessis</td>\n",
       "      <td>RA Jadeja</td>\n",
       "      <td>JL Pattinson</td>\n",
       "      <td>2</td>\n",
       "      <td>0</td>\n",
       "      <td>NaN</td>\n",
       "      <td>NaN</td>\n",
       "      <td>NaN</td>\n",
       "      <td>NaN</td>\n",
       "      <td>NaN</td>\n",
       "      <td>NaN</td>\n",
       "      <td>NaN</td>\n",
       "      <td>NaN</td>\n",
       "      <td>NaN</td>\n",
       "    </tr>\n",
       "  </tbody>\n",
       "</table>\n",
       "</div>"
      ],
      "text/plain": [
       "        match_id  season  start_date                 venue  innings  ball         batting_team    bowling_team       striker   non_striker        bowler  runs_off_bat  extras  wides  noballs  byes  legbyes  penalty wicket_type player_dismissed  other_wicket_type  other_player_dismissed\n",
       "179124  1216492   2020    2020-09-19  Sheikh Zayed Stadium  2        16.1  Chennai Super Kings  Mumbai Indians  RA Jadeja     F du Plessis  JL Pattinson  4             0      NaN    NaN      NaN   NaN      NaN       NaN         NaN             NaN                NaN                    \n",
       "179125  1216492   2020    2020-09-19  Sheikh Zayed Stadium  2        16.2  Chennai Super Kings  Mumbai Indians  RA Jadeja     F du Plessis  JL Pattinson  1             0      NaN    NaN      NaN   NaN      NaN       NaN         NaN             NaN                NaN                    \n",
       "179126  1216492   2020    2020-09-19  Sheikh Zayed Stadium  2        16.3  Chennai Super Kings  Mumbai Indians  F du Plessis  RA Jadeja     JL Pattinson  2             0      NaN    NaN      NaN   NaN      NaN       NaN         NaN             NaN                NaN                    "
      ]
     },
     "execution_count": 62,
     "metadata": {},
     "output_type": "execute_result"
    }
   ],
   "source": [
    "dth_20.head(3)"
   ]
  },
  {
   "cell_type": "code",
   "execution_count": 63,
   "id": "05cbf5f9",
   "metadata": {},
   "outputs": [],
   "source": [
    "dth_1 = pd.DataFrame(dth_20.groupby('striker')['runs_off_bat'].sum()).reset_index()"
   ]
  },
  {
   "cell_type": "code",
   "execution_count": 64,
   "id": "438be7f2",
   "metadata": {},
   "outputs": [],
   "source": [
    "dth_2 = pd.DataFrame(dth_20.groupby('striker')['ball'].count()).reset_index()"
   ]
  },
  {
   "cell_type": "code",
   "execution_count": 65,
   "id": "a4bc54fb",
   "metadata": {},
   "outputs": [],
   "source": [
    "dth_3 = dth_1.merge(dth_2, on = 'striker', how='left')"
   ]
  },
  {
   "cell_type": "code",
   "execution_count": 66,
   "id": "aa841c48",
   "metadata": {},
   "outputs": [
    {
     "data": {
      "text/html": [
       "<div>\n",
       "<style scoped>\n",
       "    .dataframe tbody tr th:only-of-type {\n",
       "        vertical-align: middle;\n",
       "    }\n",
       "\n",
       "    .dataframe tbody tr th {\n",
       "        vertical-align: top;\n",
       "    }\n",
       "\n",
       "    .dataframe thead th {\n",
       "        text-align: right;\n",
       "    }\n",
       "</style>\n",
       "<table border=\"1\" class=\"dataframe\">\n",
       "  <thead>\n",
       "    <tr style=\"text-align: right;\">\n",
       "      <th></th>\n",
       "      <th>striker</th>\n",
       "      <th>runs_off_bat</th>\n",
       "      <th>ball</th>\n",
       "    </tr>\n",
       "  </thead>\n",
       "  <tbody>\n",
       "    <tr>\n",
       "      <th>0</th>\n",
       "      <td>A Nortje</td>\n",
       "      <td>7</td>\n",
       "      <td>6</td>\n",
       "    </tr>\n",
       "    <tr>\n",
       "      <th>1</th>\n",
       "      <td>AB de Villiers</td>\n",
       "      <td>306</td>\n",
       "      <td>136</td>\n",
       "    </tr>\n",
       "    <tr>\n",
       "      <th>2</th>\n",
       "      <td>AD Russell</td>\n",
       "      <td>79</td>\n",
       "      <td>52</td>\n",
       "    </tr>\n",
       "    <tr>\n",
       "      <th>3</th>\n",
       "      <td>AM Rahane</td>\n",
       "      <td>5</td>\n",
       "      <td>5</td>\n",
       "    </tr>\n",
       "    <tr>\n",
       "      <th>4</th>\n",
       "      <td>AR Patel</td>\n",
       "      <td>71</td>\n",
       "      <td>49</td>\n",
       "    </tr>\n",
       "  </tbody>\n",
       "</table>\n",
       "</div>"
      ],
      "text/plain": [
       "          striker  runs_off_bat  ball\n",
       "0  A Nortje        7             6   \n",
       "1  AB de Villiers  306           136 \n",
       "2  AD Russell      79            52  \n",
       "3  AM Rahane       5             5   \n",
       "4  AR Patel        71            49  "
      ]
     },
     "execution_count": 66,
     "metadata": {},
     "output_type": "execute_result"
    }
   ],
   "source": [
    "dth_3.head()"
   ]
  },
  {
   "cell_type": "code",
   "execution_count": 67,
   "id": "72592f14",
   "metadata": {},
   "outputs": [],
   "source": [
    "# We are considering batsman who has faced more than 18 ball\n",
    "dth_3 = dth_3[dth_3.ball >= 18]"
   ]
  },
  {
   "cell_type": "code",
   "execution_count": 68,
   "id": "9f7fc79f",
   "metadata": {},
   "outputs": [],
   "source": [
    "dth_3['strike_rate'] = 100*dth_3['runs_off_bat']/dth_3['ball']"
   ]
  },
  {
   "cell_type": "code",
   "execution_count": 69,
   "id": "7076e728",
   "metadata": {},
   "outputs": [
    {
     "data": {
      "text/html": [
       "<div>\n",
       "<style scoped>\n",
       "    .dataframe tbody tr th:only-of-type {\n",
       "        vertical-align: middle;\n",
       "    }\n",
       "\n",
       "    .dataframe tbody tr th {\n",
       "        vertical-align: top;\n",
       "    }\n",
       "\n",
       "    .dataframe thead th {\n",
       "        text-align: right;\n",
       "    }\n",
       "</style>\n",
       "<table border=\"1\" class=\"dataframe\">\n",
       "  <thead>\n",
       "    <tr style=\"text-align: right;\">\n",
       "      <th></th>\n",
       "      <th>striker</th>\n",
       "      <th>runs_off_bat</th>\n",
       "      <th>ball</th>\n",
       "      <th>strike_rate</th>\n",
       "    </tr>\n",
       "  </thead>\n",
       "  <tbody>\n",
       "    <tr>\n",
       "      <th>45</th>\n",
       "      <td>JC Buttler</td>\n",
       "      <td>53</td>\n",
       "      <td>21</td>\n",
       "      <td>252.380952</td>\n",
       "    </tr>\n",
       "    <tr>\n",
       "      <th>30</th>\n",
       "      <td>F du Plessis</td>\n",
       "      <td>107</td>\n",
       "      <td>44</td>\n",
       "      <td>243.181818</td>\n",
       "    </tr>\n",
       "    <tr>\n",
       "      <th>73</th>\n",
       "      <td>MA Agarwal</td>\n",
       "      <td>93</td>\n",
       "      <td>40</td>\n",
       "      <td>232.500000</td>\n",
       "    </tr>\n",
       "    <tr>\n",
       "      <th>1</th>\n",
       "      <td>AB de Villiers</td>\n",
       "      <td>306</td>\n",
       "      <td>136</td>\n",
       "      <td>225.000000</td>\n",
       "    </tr>\n",
       "    <tr>\n",
       "      <th>112</th>\n",
       "      <td>SA Yadav</td>\n",
       "      <td>47</td>\n",
       "      <td>21</td>\n",
       "      <td>223.809524</td>\n",
       "    </tr>\n",
       "    <tr>\n",
       "      <th>100</th>\n",
       "      <td>RA Tripathi</td>\n",
       "      <td>45</td>\n",
       "      <td>22</td>\n",
       "      <td>204.545455</td>\n",
       "    </tr>\n",
       "    <tr>\n",
       "      <th>29</th>\n",
       "      <td>EJG Morgan</td>\n",
       "      <td>173</td>\n",
       "      <td>85</td>\n",
       "      <td>203.529412</td>\n",
       "    </tr>\n",
       "    <tr>\n",
       "      <th>56</th>\n",
       "      <td>KA Pollard</td>\n",
       "      <td>315</td>\n",
       "      <td>156</td>\n",
       "      <td>201.923077</td>\n",
       "    </tr>\n",
       "    <tr>\n",
       "      <th>62</th>\n",
       "      <td>KL Rahul</td>\n",
       "      <td>151</td>\n",
       "      <td>75</td>\n",
       "      <td>201.333333</td>\n",
       "    </tr>\n",
       "    <tr>\n",
       "      <th>117</th>\n",
       "      <td>SO Hetmyer</td>\n",
       "      <td>138</td>\n",
       "      <td>69</td>\n",
       "      <td>200.000000</td>\n",
       "    </tr>\n",
       "    <tr>\n",
       "      <th>34</th>\n",
       "      <td>HH Pandya</td>\n",
       "      <td>226</td>\n",
       "      <td>114</td>\n",
       "      <td>198.245614</td>\n",
       "    </tr>\n",
       "    <tr>\n",
       "      <th>7</th>\n",
       "      <td>AT Rayudu</td>\n",
       "      <td>83</td>\n",
       "      <td>42</td>\n",
       "      <td>197.619048</td>\n",
       "    </tr>\n",
       "    <tr>\n",
       "      <th>40</th>\n",
       "      <td>Ishan Kishan</td>\n",
       "      <td>83</td>\n",
       "      <td>42</td>\n",
       "      <td>197.619048</td>\n",
       "    </tr>\n",
       "    <tr>\n",
       "      <th>99</th>\n",
       "      <td>RA Jadeja</td>\n",
       "      <td>282</td>\n",
       "      <td>145</td>\n",
       "      <td>194.482759</td>\n",
       "    </tr>\n",
       "    <tr>\n",
       "      <th>123</th>\n",
       "      <td>SS Iyer</td>\n",
       "      <td>72</td>\n",
       "      <td>38</td>\n",
       "      <td>189.473684</td>\n",
       "    </tr>\n",
       "    <tr>\n",
       "      <th>35</th>\n",
       "      <td>HV Patel</td>\n",
       "      <td>45</td>\n",
       "      <td>24</td>\n",
       "      <td>187.500000</td>\n",
       "    </tr>\n",
       "    <tr>\n",
       "      <th>135</th>\n",
       "      <td>V Kohli</td>\n",
       "      <td>106</td>\n",
       "      <td>57</td>\n",
       "      <td>185.964912</td>\n",
       "    </tr>\n",
       "    <tr>\n",
       "      <th>44</th>\n",
       "      <td>JC Archer</td>\n",
       "      <td>96</td>\n",
       "      <td>52</td>\n",
       "      <td>184.615385</td>\n",
       "    </tr>\n",
       "    <tr>\n",
       "      <th>98</th>\n",
       "      <td>R Tewatia</td>\n",
       "      <td>195</td>\n",
       "      <td>107</td>\n",
       "      <td>182.242991</td>\n",
       "    </tr>\n",
       "    <tr>\n",
       "      <th>57</th>\n",
       "      <td>KD Karthik</td>\n",
       "      <td>134</td>\n",
       "      <td>74</td>\n",
       "      <td>181.081081</td>\n",
       "    </tr>\n",
       "  </tbody>\n",
       "</table>\n",
       "</div>"
      ],
      "text/plain": [
       "            striker  runs_off_bat  ball  strike_rate\n",
       "45   JC Buttler      53            21    252.380952 \n",
       "30   F du Plessis    107           44    243.181818 \n",
       "73   MA Agarwal      93            40    232.500000 \n",
       "1    AB de Villiers  306           136   225.000000 \n",
       "112  SA Yadav        47            21    223.809524 \n",
       "100  RA Tripathi     45            22    204.545455 \n",
       "29   EJG Morgan      173           85    203.529412 \n",
       "56   KA Pollard      315           156   201.923077 \n",
       "62   KL Rahul        151           75    201.333333 \n",
       "117  SO Hetmyer      138           69    200.000000 \n",
       "34   HH Pandya       226           114   198.245614 \n",
       "7    AT Rayudu       83            42    197.619048 \n",
       "40   Ishan Kishan    83            42    197.619048 \n",
       "99   RA Jadeja       282           145   194.482759 \n",
       "123  SS Iyer         72            38    189.473684 \n",
       "35   HV Patel        45            24    187.500000 \n",
       "135  V Kohli         106           57    185.964912 \n",
       "44   JC Archer       96            52    184.615385 \n",
       "98   R Tewatia       195           107   182.242991 \n",
       "57   KD Karthik      134           74    181.081081 "
      ]
     },
     "execution_count": 69,
     "metadata": {},
     "output_type": "execute_result"
    }
   ],
   "source": [
    "dth_3.sort_values('strike_rate', ascending = False).head(20)"
   ]
  },
  {
   "cell_type": "code",
   "execution_count": 70,
   "id": "04661dde",
   "metadata": {},
   "outputs": [],
   "source": [
    "msd_20 = msd_dth[msd_dth.season >= 2020]"
   ]
  },
  {
   "cell_type": "code",
   "execution_count": 71,
   "id": "ef1fd649",
   "metadata": {},
   "outputs": [
    {
     "data": {
      "text/plain": [
       "160.0"
      ]
     },
     "execution_count": 71,
     "metadata": {},
     "output_type": "execute_result"
    }
   ],
   "source": [
    "# Strike rate of MSD after 2020\n",
    "100*sum(msd_20.runs_off_bat)/len(msd_20)"
   ]
  },
  {
   "cell_type": "code",
   "execution_count": 72,
   "id": "c349e58d",
   "metadata": {},
   "outputs": [],
   "source": [
    "dth_3.reset_index(inplace = True, drop = True)"
   ]
  },
  {
   "cell_type": "code",
   "execution_count": 107,
   "id": "3cc7a127",
   "metadata": {},
   "outputs": [
    {
     "data": {
      "image/png": "[encoded data removed]",
      "text/plain": [
       "<Figure size 936x576 with 1 Axes>"
      ]
     },
     "metadata": {
      "needs_background": "light"
     },
     "output_type": "display_data"
    }
   ],
   "source": [
    "plt.figure(figsize = (13, 8))\n",
    "plt.scatter(dth_3.strike_rate, dth_3.runs_off_bat,color='blue')\n",
    "\n",
    "for i in range(len(dth_3)):\n",
    "    if dth_3['striker'][i] == 'AB de Villiers':\n",
    "        plt.text(dth_3['strike_rate'][i] -10, dth_3['runs_off_bat'][i]+12, dth_3['striker'][i] )\n",
    "    elif dth_3['striker'][i] == 'MS Dhoni':\n",
    "        plt.text(dth_3['strike_rate'][i] -7, dth_3['runs_off_bat'][i]+4, dth_3['striker'][i], color ='red' )\n",
    "    elif dth_3['strike_rate'][i] >= 170:\n",
    "        plt.text(dth_3['strike_rate'][i] -8, dth_3['runs_off_bat'][i] +6, dth_3['striker'][i] )\n",
    "    else:\n",
    "        plt.text(dth_3['strike_rate'][i] -8, dth_3['runs_off_bat'][i] +6, '' )\n",
    "        \n",
    "plt.xlabel('Strike rate', fontsize ='10')\n",
    "plt.ylabel('Runs scored')\n",
    "plt.title(\"Comparing runs & strike_rate of Batsman in death overs in 2020 & 2021\", fontsize = '20')\n",
    "plt.axvline(180, ls = '--', color = 'grey')\n",
    "plt.axhline(150, ls = '--', color = 'grey')          \n",
    "    \n",
    "plt.show()    "
   ]
  },
  {
   "cell_type": "code",
   "execution_count": 74,
   "id": "88c90471",
   "metadata": {},
   "outputs": [],
   "source": [
    "# The Strike Rate of MS Dhoni in death overs of last 2 years is not so good."
   ]
  },
  {
   "cell_type": "code",
   "execution_count": 75,
   "id": "c8a5f9fd",
   "metadata": {},
   "outputs": [],
   "source": [
    "# Therefore MS Dhoni should consider about continuing the role as a batsman in IPL"
   ]
  }
 ],
 "metadata": {
  "kernelspec": {
   "display_name": "Python 3",
   "language": "python",
   "name": "python3"
  },
  "language_info": {
   "codemirror_mode": {
    "name": "ipython",
    "version": 3
   },
   "file_extension": ".py",
   "mimetype": "text/x-python",
   "name": "python",
   "nbconvert_exporter": "python",
   "pygments_lexer": "ipython3",
   "version": "3.8.8"
  }
 },
 "nbformat": 4,
 "nbformat_minor": 5
}
